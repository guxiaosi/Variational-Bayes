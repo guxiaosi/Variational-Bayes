{
 "cells": [
  {
   "cell_type": "code",
   "execution_count": 28,
   "id": "558db92f",
   "metadata": {},
   "outputs": [],
   "source": [
    "#2023-4-15\n",
    "#SE beta = 1\n",
    "import numpy as np\n",
    "from numpy import linalg as LA\n",
    "import matplotlib.pyplot as plt\n",
    "import random\n",
    "import math\n",
    "\n",
    "def se2(alpha_l,alpha_u,chi):\n",
    "    sigma2_collect_se2 = []\n",
    "    k_collect_se2 = []\n",
    "    #chi_collect_se2 = []\n",
    "    #chi_t = 0.01\n",
    "    k_t = 0.01\n",
    "    sigma_0 = 1\n",
    "    sigma_s2 = 1\n",
    "    sigma_t2 = 0\n",
    "    eps = 1e-12\n",
    "    parameter_old = np.array([k_t,sigma_t2])\n",
    "    parameter_new = np.array([1,1])\n",
    "    iter_se2 = 0\n",
    "    chi_collect_se2.append(chi_t)\n",
    "    k_collect_se2.append(k_t)\n",
    "    sigma2_collect_se2.append(sigma_t2)\n",
    "\n",
    "    def y_s(p,t):\n",
    "        eps = 1e-12 #epsilon\n",
    "        y_gst = 1 #initial y^*\n",
    "        y_pre = 0\n",
    "        while LA.norm(y_gst-y_pre)>eps:\n",
    "            y_pre = y_gst\n",
    "            y_st = np.tanh(p+np.sqrt(t)*y_pre)*np.sqrt(t)\n",
    "        return y_gst\n",
    "\n",
    "    def F(p,t): #F function\n",
    "        return y_s(p,t)/(np.sqrt(t))\n",
    "\n",
    "    def T(p,t): #T function\n",
    "        return (1-F(p,t)**2)/(1-t*(1-F(p,t)**2))\n",
    "\n",
    "    while LA.norm(parameter_new - parameter_old)>eps:\n",
    "        parameter_old = np.array([k_t,sigma_t2])\n",
    "        sum_t_1 = 0\n",
    "        sum_t_2 = 0\n",
    "        sum_f_1 = 0\n",
    "        sum_f_2 = 0\n",
    "        sum_f2_1 = 0\n",
    "        sum_f2_2 = 0\n",
    "        iter_se2 += 1\n",
    "        for z in np.arange(-10,10,0.1):\n",
    "            sum_t_1 += np.exp(-1/2*z**2)*T(k_t*sigma_s2+np.sqrt(k_t**2*sigma_s2+sigma_t2)*z,chi)/np.sqrt(2*np.pi)/10\n",
    "            #sum_t_2 += np.exp(-1/2*z**2)*T(-k_t*sigma_s2+np.sqrt(k_t**2*sigma_s2+sigma_t2)*z,chi_t)/np.sqrt(2*np.pi)/10\n",
    "            sum_f_1 += np.exp(-1/2*z**2)*F(k_t*sigma_s2+np.sqrt(k_t**2*sigma_s2+sigma_t2)*z,chi)/np.sqrt(2*np.pi)/10\n",
    "            #sum_f_2 += np.exp(-1/2*z**2)*F(-k_t*sigma_s2+np.sqrt(k_t**2*sigma_s2+sigma_t2)*z,chi_t)/np.sqrt(2*np.pi)/10\n",
    "            sum_f2_1 += np.exp(-1/2*z**2)*F(k_t*sigma_s2+np.sqrt(k_t**2*sigma_s2+sigma_t2)*z,chi)**2/np.sqrt(2*np.pi)/10\n",
    "            #sum_f2_2 += np.exp(-1/2*z**2)*F(-k_t*sigma_s2+np.sqrt(k_t**2*sigma_s2+sigma_t2)*z,chi_t)**2/np.sqrt(2*np.pi)/10\n",
    "        #chi_new = 1/(1/sigma_0 + alpha_l + alpha_u - alpha_u*sum_t_1)\n",
    "        k_new = chi*(alpha_l + alpha_u*sum_f_1 )\n",
    "        sigma_new = chi**2*(alpha_l + alpha_u*sum_f2_1)\n",
    "        parameter_new = np.array([k_new,sigma_new])\n",
    "        #chi_collect_se2.append(chi_new)\n",
    "        k_collect_se2.append(k_new)\n",
    "        sigma2_collect_se2.append(sigma_new)\n",
    "        #chi_t = chi_new\n",
    "        k_t = k_new\n",
    "        sigma_t2 = sigma_new\n",
    "    return k_collect_se2,sigma2_collect_se2,chi_collect_se2,iter_se2"
   ]
  },
  {
   "cell_type": "code",
   "execution_count": 29,
   "id": "dc647ac0",
   "metadata": {},
   "outputs": [],
   "source": [
    "se = se2(0,1,0.2928)"
   ]
  },
  {
   "cell_type": "code",
   "execution_count": 30,
   "id": "1e7770a7",
   "metadata": {},
   "outputs": [
    {
     "data": {
      "text/plain": [
       "0.5411099703387491"
      ]
     },
     "execution_count": 30,
     "metadata": {},
     "output_type": "execute_result"
    }
   ],
   "source": [
    "se[0][-1]"
   ]
  },
  {
   "cell_type": "code",
   "execution_count": 26,
   "id": "96ee6010",
   "metadata": {},
   "outputs": [
    {
     "data": {
      "text/plain": [
       "0.29280000000000106"
      ]
     },
     "execution_count": 26,
     "metadata": {},
     "output_type": "execute_result"
    }
   ],
   "source": [
    "se[1][-1]"
   ]
  },
  {
   "cell_type": "code",
   "execution_count": 36,
   "id": "96a9359b",
   "metadata": {},
   "outputs": [],
   "source": [
    "#collcetion if SE2\n",
    "sigma2_collect_se2 = []\n",
    "k_collect_se2 = []\n",
    "\n",
    "def se2(alpha_l,alpha,chi):\n",
    "    k_t = 0.01\n",
    "    sigma_s2 = 1\n",
    "    sigma_t2 = 0\n",
    "    eps = 1e-6\n",
    "    parameter_old = np.array([k_t,sigma_t2])\n",
    "    parameter_new = np.array([1,1])\n",
    "    iter_se2 = 0\n",
    "    k_collect_se2.append(0.01)\n",
    "    sigma2_collect_se2.append(sigma_t2)\n",
    "    def y_s(p,t):\n",
    "        eps = 1e-12 #epsilon\n",
    "        y_gst = 1 #initial y^*\n",
    "        y_pre = 0\n",
    "        while LA.norm(y_gst-y_pre)>eps:\n",
    "            y_pre = y_gst\n",
    "            y_st = np.tanh(p+np.sqrt(t)*y_pre)*np.sqrt(t)\n",
    "        return y_gst\n",
    "\n",
    "    def F(p,t): #F function\n",
    "        return y_s(p,t)/(np.sqrt(t))\n",
    "\n",
    "    def T(p,t): #T function\n",
    "        return (1-F(p,t)**2)/(1-t*(1-F(p,t)**2))\n",
    "    while LA.norm(parameter_new - parameter_old)>eps:\n",
    "        parameter_old = np.array([k_t,sigma_t2])\n",
    "        sum_f = 0\n",
    "        sum_f2 = 0\n",
    "        iter_se2 += 1\n",
    "        for z in np.arange(-10,10,0.1):\n",
    "            sum_f += np.exp(-1/2*z**2)*F(k_t*sigma_s2+np.sqrt(k_t**2*sigma_s2+sigma_t2)*z,chi)/np.sqrt(2*np.pi)/10\n",
    "            sum_f2 += np.exp(-1/2*z**2)*F(k_t*sigma_s2+np.sqrt(k_t**2*sigma_s2+sigma_t2)*z,chi)**2/np.sqrt(2*np.pi)/10\n",
    "        k_new = chi*(alpha_l + alpha*sum_f)\n",
    "        sigma_new = chi**2*(alpha_l + alpha*sum_f2)\n",
    "        parameter_new = np.array([k_new,sigma_new])\n",
    "        k_collect_se2.append(k_new)\n",
    "        sigma2_collect_se2.append(sigma_new)\n",
    "        k_t = k_new\n",
    "        sigma_t2 = sigma_new\n",
    "    return k_collect_se2,sigma2_collect_se2,iter_se2"
   ]
  },
  {
   "cell_type": "code",
   "execution_count": 37,
   "id": "f9a014aa",
   "metadata": {},
   "outputs": [],
   "source": [
    "se = se2(0,1,0.2928)"
   ]
  },
  {
   "cell_type": "code",
   "execution_count": 38,
   "id": "5ab11414",
   "metadata": {},
   "outputs": [
    {
     "data": {
      "text/plain": [
       "0.5411099703387491"
      ]
     },
     "execution_count": 38,
     "metadata": {},
     "output_type": "execute_result"
    }
   ],
   "source": [
    "se[0][-1]"
   ]
  },
  {
   "cell_type": "code",
   "execution_count": 39,
   "id": "7b28ed5d",
   "metadata": {},
   "outputs": [
    {
     "data": {
      "text/plain": [
       "0.29280000000000106"
      ]
     },
     "execution_count": 39,
     "metadata": {},
     "output_type": "execute_result"
    }
   ],
   "source": [
    "se[1][-1]"
   ]
  },
  {
   "cell_type": "code",
   "execution_count": 152,
   "id": "cc3c8fb2",
   "metadata": {},
   "outputs": [],
   "source": [
    "#b = 1/sigma2 fixed sigma_0 = 1\n",
    "def SE2(alpha_l,alpha,b):\n",
    "    sigma2_collect_se2 = []\n",
    "    k_collect_se2 = []\n",
    "    chi_c = []\n",
    "    def y_s(p,t):#using iteration to solve y^*\n",
    "        eps = 1e-12 #epsilon\n",
    "        y_st = 1 #initial y^*\n",
    "        y_pre = 0\n",
    "        while LA.norm(y_st-y_pre)>eps:\n",
    "            y_pre = y_st\n",
    "            y_st = np.tanh(p+np.sqrt(t)*y_pre)*np.sqrt(t)\n",
    "        return y_st\n",
    "    def F(p, t):\n",
    "        return y_s(p,t)/(np.sqrt(t))\n",
    "\n",
    "    def T(p, t):\n",
    "        return (1-F(p,t)**2)/(1-t*(1-F(p,t)**2))\n",
    "\n",
    "    k_t = 0.01\n",
    "    #sigma_s2 = 1\n",
    "    sigma_t2 = 0\n",
    "    chi_t = 0.1\n",
    "    eps = 1e-8\n",
    "    parameter_old = np.array([k_t,sigma_t2])\n",
    "    parameter_new = np.array([1,1])\n",
    "    iter_se2 = 0\n",
    "    k_collect_se2.append(0.01)\n",
    "    sigma2_collect_se2.append(sigma_t2)\n",
    "    while LA.norm(parameter_new - parameter_old)>eps:\n",
    "        parameter_old = np.array([k_t,sigma_t2])\n",
    "        sum_t = 0\n",
    "        sum_f = 0\n",
    "        sum_f2 = 0\n",
    "        iter_se2 += 1\n",
    "        for z in np.arange(-10,10,0.1):\n",
    "            sum_t += np.exp(-1/2*z**2)*T(k_t*b+np.sqrt((k_t**2+sigma_t2)*b)*z,chi_t*b)/np.sqrt(2*np.pi)/10\n",
    "            sum_f += np.exp(-1/2*z**2)*F(k_t*b+np.sqrt((k_t**2+sigma_t2)*b)*z,chi_t*b)/np.sqrt(2*np.pi)/10\n",
    "            sum_f2 += np.exp(-1/2*z**2)*F(k_t*b+np.sqrt((k_t**2+sigma_t2)*b)*z,chi_t*b)**2/np.sqrt(2*np.pi)/10\n",
    "        chi_new = 1/(1+(alpha_l+alpha)*b - alpha*b*sum_t)\n",
    "        k_new = chi_new*b*(alpha_l + alpha*sum_f)\n",
    "        sigma_new = chi_new**2*b*(alpha_l + alpha*sum_f2)\n",
    "        parameter_new = np.array([k_new,sigma_new])\n",
    "        k_collect_se2.append(k_new)\n",
    "        sigma2_collect_se2.append(sigma_new)\n",
    "        chi_c.append(chi_new)\n",
    "        chi_t = chi_new\n",
    "        k_t = k_new\n",
    "        sigma_t2 = sigma_new\n",
    "    return k_collect_se2[-1],sigma2_collect_se2[-1],chi_c,iter_se2"
   ]
  },
  {
   "cell_type": "code",
   "execution_count": 153,
   "id": "f1c558fe",
   "metadata": {},
   "outputs": [],
   "source": [
    "se = SE2(0,3,1)"
   ]
  },
  {
   "cell_type": "code",
   "execution_count": 154,
   "id": "f8f0eb10",
   "metadata": {},
   "outputs": [],
   "source": [
    "#MMSE:\n",
    "def MMSE(q,m,a):\n",
    "    return ((m-1)**2*a+q)/a"
   ]
  },
  {
   "cell_type": "code",
   "execution_count": 172,
   "id": "fecfe557",
   "metadata": {},
   "outputs": [],
   "source": [
    "q_collect8 = []\n",
    "m_collect8 = []\n",
    "b_collect8 = []\n",
    "for i in np.arange(0.01,5.05,0.05):\n",
    "    se = SE2(1,1,i)\n",
    "    q_collect8.append(se[1])\n",
    "    m_collect8.append(se[0])\n",
    "    b_collect8.append(i)\n",
    "\n",
    "l = len(q_collect8)\n",
    "\n",
    "MSE_collect8 = []\n",
    "for i in range(l):\n",
    "    MSE_collect8.append(MMSE(q_collect8[i],m_collect8[i],1))"
   ]
  },
  {
   "cell_type": "code",
   "execution_count": 173,
   "id": "da6dcbdf",
   "metadata": {},
   "outputs": [
    {
     "data": {
      "image/png": "[encoded data removed]",
      "text/plain": [
       "<Figure size 432x288 with 1 Axes>"
      ]
     },
     "metadata": {
      "needs_background": "light"
     },
     "output_type": "display_data"
    }
   ],
   "source": [
    "plt.plot(b_collect8,MSE_collect8,c=\"b\",label=r'$\\beta = \\infty,\\alpha_l=1,\\alpha_u=0.5,\\sigma_0^2=1$')\n",
    "#plt.plot(b_collect,MSE_collect9,c=\"gold\",label=r'$\\beta = \\infty,\\alpha_l=1,\\alpha_u=1.5,\\sigma_0^2=1$')\n",
    "plt.title(\"BBP phase transition\")\n",
    "plt.ylabel(r'$\\mathcal{E}$',fontsize=20)\n",
    "plt.xlabel(r'$1/\\sigma^2$',fontsize=15)\n",
    "plt.grid()\n",
    "plt.legend()\n",
    "plt.show()"
   ]
  },
  {
   "cell_type": "code",
   "execution_count": 157,
   "id": "671a7d5a",
   "metadata": {},
   "outputs": [],
   "source": [
    "#SE beta = 1\n",
    "import numpy as np\n",
    "from numpy import linalg as LA\n",
    "import matplotlib.pyplot as plt\n",
    "import random\n",
    "import math\n",
    "\n",
    "#sigma_0 = 1\n",
    "def SE_beta1(alpha_l,alpha_u,sigma_0,b):\n",
    "    sigma2_collect_se2 = []\n",
    "    k_collect_se2 = []\n",
    "    chi = 1/(1/sigma_0 + (alpha_l+alpha_u)*b)\n",
    "    k_t = 0.01\n",
    "    sigma_t2 = 0\n",
    "    eps = 1e-8\n",
    "    parameter_old = np.array([k_t,sigma_t2])\n",
    "    parameter_new = np.array([1,1])\n",
    "    iter_se2 = 0\n",
    "    k_collect_se2.append(k_t)\n",
    "    sigma2_collect_se2.append(sigma_t2)\n",
    "    \n",
    "    while LA.norm(parameter_new - parameter_old)>eps:\n",
    "        parameter_old = np.array([k_t,sigma_t2])\n",
    "        sum_1 = 0\n",
    "        sum_2 = 0\n",
    "        iter_se2 += 1\n",
    "        for z in np.arange(-10,10,0.1):\n",
    "            sum_1 += np.exp(-1/2*z**2)*math.tanh(k_t*sigma_0*b+np.sqrt(k_t**2*sigma_0*b+sigma_t2*b)*z)/np.sqrt(2*np.pi)/10\n",
    "            sum_2 += np.exp(-1/2*z**2)*(math.tanh(k_t*sigma_0*b+np.sqrt(k_t**2*sigma_0*b+sigma_t2*b)*z))**2/np.sqrt(2*np.pi)/10\n",
    "            \n",
    "        k_new = chi*b*(alpha_l + alpha_u*sum_1)\n",
    "        sigma_new = chi**2*b*(alpha_l + alpha_u*sum_2)\n",
    "        parameter_new = np.array([k_new,sigma_new])\n",
    "        \n",
    "        k_collect_se2.append(k_new)\n",
    "        sigma2_collect_se2.append(sigma_new)\n",
    "    \n",
    "        k_t = k_new\n",
    "        sigma_t2 = sigma_new\n",
    "    return k_collect_se2[-1],sigma2_collect_se2[-1],iter_se2"
   ]
  },
  {
   "cell_type": "code",
   "execution_count": null,
   "id": "0deddad5",
   "metadata": {},
   "outputs": [],
   "source": [
    "q_collect8 = []\n",
    "m_collect8 = []\n",
    "b_collect8 = []\n",
    "for i in np.arange(0.01,3.55,0.02):\n",
    "    se = SE2(0.1,0.9,i)\n",
    "    q_collect8.append(se[1])\n",
    "    m_collect8.append(se[0])\n",
    "    b_collect8.append(i)\n",
    "\n",
    "l = len(q_collect8)\n",
    "\n",
    "MSE_collect8 = []\n",
    "for i in range(l):\n",
    "    MSE_collect8.append(MMSE(q_collect8[i],m_collect8[i],1))\n",
    "    \n",
    "q_collect = []\n",
    "m_collect = []\n",
    "b_collect = []\n",
    "for i in np.arange(0.01,3.55,0.02):\n",
    "    se = SE_beta1(0.1,0.9,1,i)\n",
    "    q_collect.append(se[1])\n",
    "    m_collect.append(se[0])\n",
    "    b_collect.append(i)\n",
    "\n",
    "#l = len(q_collect)\n",
    "\n",
    "MSE_collect = []\n",
    "for i in range(l):\n",
    "    MSE_collect.append(MMSE(q_collect[i],m_collect[i],1))"
   ]
  },
  {
   "cell_type": "code",
   "execution_count": null,
   "id": "78ec2748",
   "metadata": {},
   "outputs": [],
   "source": [
    "plt.plot(b_collect8,MSE_collect8,c=\"r\",label=r'$\\beta = \\infty,\\alpha_l=1,\\alpha_u=0.1,\\sigma_0^2=1$')\n",
    "plt.plot(b_collect,MSE_collect,c=\"b\",label=r'$\\beta = 1,\\alpha_l=1,\\alpha_u=0.1,\\sigma_0^2=1$')\n",
    "plt.title(\"BBP phase transition\")\n",
    "plt.ylabel(r'$\\mathcal{E}$',fontsize=20)\n",
    "plt.xlabel(r'$1/\\sigma^2$',fontsize=15)\n",
    "plt.grid()\n",
    "plt.legend()\n",
    "plt.show()"
   ]
  },
  {
   "cell_type": "code",
   "execution_count": 180,
   "id": "5ad3d87d",
   "metadata": {},
   "outputs": [
    {
     "name": "stdout",
     "output_type": "stream",
     "text": [
      "rMLE: [0.9900985247041516, 0.9433062396888783, 0.9004270251453375, 0.8608287631125708, 0.8240688637868517, 0.7898238557470931, 0.7578325096440918, 0.7278629078676805, 0.6997035117150434, 0.6731671752273269, 0.6480961108282941, 0.6243622145402797, 0.6018630434893014, 0.580515868801478, 0.5602518658223552, 0.5410114471309586, 0.5227409560226256, 0.505390539676009, 0.4889129007013796, 0.4732626400316705, 0.45839596688224826, 0.44427061719624955, 0.4308458761129675, 0.4180826429217591, 0.4059434993491302, 0.3943927643870493, 0.3833965268347982, 0.372922653900474, 0.3629407776248856, 0.3534222622648331, 0.34434015592528083, 0.3356691304598638, 0.3273854139898373, 0.31946671803790255, 0.3118921596402239, 0.30464218193300036, 0.2976984784704385, 0.2910439204450329, 0.2846624811506371, 0.27853915957948355, 0.2726599111086993, 0.2670115938033969, 0.2615819108729285, 0.2563593456911352, 0.2513330969834903, 0.2464930320150618, 0.2418296561900498, 0.2373340772386318, 0.232997950925993, 0.22881342383564587, 0.22477309895664377, 0.22087002607200612, 0.217097690238708, 0.21344997439835298, 0.20992110474257583, 0.2065056113464812, 0.203198322877487, 0.1999943784125463, 0.19688922137693338, 0.19387856009160404, 0.1909583161639345, 0.18812459681378374, 0.18537370440189122, 0.18270216073756457, 0.18010671012996787, 0.17758428562097747, 0.1751319584232663, 0.1727469075144607, 0.1704264283363685, 0.1681679647120197, 0.16596912937552324, 0.16382768850831672, 0.161741516211481, 0.1597085509598096, 0.1577267849650597, 0.15579428976675477, 0.1539092529603321, 0.15206999410931177, 0.15027494402919211, 0.14852259880046326, 0.1468114797083985, 0.14514012629812645, 0.14350712411669095, 0.14191114387864373, 0.14035096301501396, 0.13882545349093042, 0.13733354158590222, 0.13587416445013784, 0.1344462514821464, 0.13304874105284326, 0.13168061866342193, 0.1303409504830542, 0.12902889143244395, 0.12774366232376738, 0.12648450810871772, 0.12525066138894517, 0.12404133314249527, 0.12285573450698296, 0.12169311435891486, 0.12055278989618917, 0.11943415396245179] --------BO [0.9900987648927405, 0.9433485779536528, 0.9006377388386553, 0.8613446963312373, 0.8249827394841681, 0.7911675340022917, 0.7595920199839806, 0.7300076251203463, 0.7022103883331274, 0.6760307219519704, 0.6513258164411886, 0.6279739515218096, 0.6058701855571139, 0.5849230551358342, 0.5650520211314044, 0.5461854758470078, 0.5282591791865757, 0.5112150219060105, 0.49500004796787356, 0.479565676971234, 0.4648670850656165, 0.45086271053488447, 0.43751385748553545, 0.4247843765377556, 0.4126404057391514, 0.4010501583852378, 0.3899837472280579, 0.37941303681760086, 0.36931151754768676, 0.3596541964446873, 0.3504175009057313, 0.3415791925148972, 0.33311828878562844, 0.325014991233134, 0.3172506186041062, 0.30980754440984565, 0.30266913814542284, 0.295819709750391, 0.2892444569907683, 0.2829294155295591, 0.2768614115133913, 0.2710280165432747, 0.26541750492364985, 0.26001881310006125, 0.25482150120513597, 0.24981571663739174, 0.24499215959944104, 0.24034205052256952, 0.2358570993042804, 0.23152947636117502, 0.22735178495077255, 0.22331703590205462, 0.2194186230102218, 0.2156503003141748, 0.21200616064909444, 0.2084806154945517, 0.20506837604812928, 0.20176443545659087, 0.19856405213892295, 0.1954627341380464, 0.19245622444059626, 0.1895404872068616, 0.1867116948557088, 0.1839662159520522, 0.18130060384716767, 0.1787115860248195, 0.1761960541087948, 0.17375105448998523, 0.17137377953360278, 0.169061559329486, 0.166811853950701, 0.16462224618779978, 0.16249043472814073, 0.16041422777177242, 0.15839153693271976, 0.15642037172049408, 0.15449883413887208, 0.15262511372006515, 0.1507974828332601, 0.14901429227262925, 0.14727396710693097, 0.14557500277400848, 0.1439159614046009, 0.14229546836091378, 0.14071220897636605, 0.13916492548382706, 0.13765241412050594, 0.1361735223984349, 0.13472714653022247, 0.1333122290004379, 0.13192775627361863, 0.1305727566304924, 0.12924629812455132, 0.12794748665163688, 0.12667546412566982, 0.1254294067541077, 0.12420852340712986, 0.12301205407493812, 0.12183926840792145, 0.1206894643347728, 0.11956196675395836]\n"
     ]
    }
   ],
   "source": [
    "print(\"rMLE:\",MSE_collect8,\"--------BO\",MSE_collect)#0.5 alpha_u"
   ]
  },
  {
   "cell_type": "code",
   "execution_count": 183,
   "id": "8751fad7",
   "metadata": {},
   "outputs": [
    {
     "name": "stdout",
     "output_type": "stream",
     "text": [
      "rMLE: [0.9900989128613502, 0.9433782181364507, 0.9008057802790428, 0.861818316200551, 0.8259606619055577, 0.7928589711981453, 0.7622009161057302, 0.7337217653014729, 0.7071947524261066, 0.6824242194153967, 0.6592404534467525, 0.6374955830635773, 0.6170602031833157, 0.5978205604537795, 0.5796761990648156, 0.5625379976263217, 0.5463265351427513, 0.530970732686473, 0.516406723042356, 0.5025769073540898, 0.4894291644213389, 0.47691618441176026, 0.4649949040940109, 0.45362602518276446, 0.442773601051391, 0.43240468001744414, 0.42248899574010496, 0.41299869706391423, 0.40390811115919256, 0.39519353515827327, 0.3868330519978954, 0.3788063662895882, 0.3710946581018116, 0.36368045456337517, 0.35654751546949137, 0.34968072539416134, 0.34306599387577275, 0.3366901754888798, 0.3305410071007189, 0.324607036470179, 0.31887753337379715, 0.3133424205591232, 0.30799225676387154, 0.30281823176971234, 0.2978120997537075, 0.2929660601117828, 0.28827269465627414, 0.2837250232783167, 0.27931658288126593, 0.2750413747245384, 0.27089367340062165, 0.26686789176328785, 0.26295866284586056, 0.2591610480673523, 0.2554706191841666, 0.2518832613459536, 0.2483948569968836, 0.24500119619134764, 0.24169821619040643, 0.2384823253265533, 0.23535049261523106, 0.23229995116548163, 0.22932774790381483, 0.226430617976425, 0.22360529515077357, 0.22084894313564654, 0.2181593735741533, 0.21553483241590618, 0.212973429103575, 0.21047276224356276, 0.20803011836052088, 0.2056429631492322, 0.20330934469887416, 0.20102799907117927, 0.19879798018255618, 0.19661797630494812, 0.19448602233559997, 0.19239984282287437, 0.19035736341282364, 0.1883570811099929, 0.186398200819032, 0.1844803411036089, 0.18260280245763202, 0.18076414160998894, 0.17896246944662902, 0.17719595495529442, 0.17546318412716788, 0.17376338091170962, 0.17209639658066497, 0.17046218464660315, 0.1688600579252581, 0.1672886285783039, 0.16574628666811936, 0.16423159142979862, 0.16274350346803185, 0.16128156391358403, 0.15984589589264225, 0.15843667856617866, 0.1570534158321958, 0.15569495260097113, 0.1543599572504956] --------BO [0.9900989225358156, 0.943379929893412, 0.9008139135683494, 0.8618363756762352, 0.8259879684354657, 0.7928904222673803, 0.7622286579410692, 0.7337374064756053, 0.7071911249380672, 0.6823963270765752, 0.6591856901373915, 0.6374134760427739, 0.6169519326372209, 0.5976884331694373, 0.5795231772708624, 0.5623673238976739, 0.5461414601979699, 0.5307743344629128, 0.5162017988575063, 0.5023659204506552, 0.48921422852886814, 0.4766990732315878, 0.4647770758552174, 0.4534086552086253, 0.44255761750059514, 0.43219079963990503, 0.42227775770539716, 0.41279049382352195, 0.40370321586777985, 0.39499212533766803, 0.38663522953612195, 0.378612174783309, 0.3709040979109324, 0.36349349369790174, 0.35636409625316434, 0.3495007726385303, 0.34288942726439, 0.33651691579295157, 0.3303709674538763, 0.32444011482149254, 0.3187136302255391, 0.31318146807223823, 0.307834212442357, 0.3026630294101692, 0.29765962359386905, 0.29281619850563523, 0.2881254203195524, 0.2835803847190966, 0.2791745865238321, 0.2749018918281244, 0.27075651241374105, 0.26673298222372754, 0.262826135707407, 0.25903108786615775, 0.25534321584712627, 0.2517581419475208, 0.24827171790587732, 0.2448800103688897, 0.2415792874332639, 0.2383660061717356, 0.2352368010610347, 0.23218847323731087, 0.22921798051144843, 0.22632242808291234, 0.22349905989632923, 0.22074525059002104, 0.21805849799021929, 0.2154364161087467, 0.21287672860562656, 0.21037726268139073, 0.2079359433668557, 0.20555078818085082, 0.2032199021288441, 0.2009414730176416, 0.19871376706337046, 0.19653512477179377, 0.19440395707169067, 0.1923187416835612, 0.19027801970731253, 0.1882803924138577, 0.1863245182267176, 0.18440910988078782, 0.18253293174639834, 0.18069479730769256, 0.17889356678516471, 0.17712814489294926, 0.17539747872214204, 0.17370055574206622, 0.1720364019119796, 0.17040407989625406, 0.1688026873765524, 0.16723135545498102, 0.1656892471426178, 0.1641755559282012, 0.1626895044221219, 0.16123034307119186, 0.15979734893996916, 0.15838982455541722, 0.15700709680682626, 0.15564851590876833, 0.1543134544086328]\n"
     ]
    }
   ],
   "source": [
    "print(\"rMLE:\",MSE_collect8,\"--------BO\",MSE_collect)#0.1 alpha_u"
   ]
  },
  {
   "cell_type": "code",
   "execution_count": 176,
   "id": "cc462371",
   "metadata": {},
   "outputs": [
    {
     "name": "stdout",
     "output_type": "stream",
     "text": [
      "rMLE: [0.9900980395107428, 0.9432163983377603, 0.8999580162451725, 0.8596272964828892, 0.8218471155685027, 0.7864039860457498, 0.7530880254434151, 0.7216199636671988, 0.691695802573032, 0.6630697601588986, 0.635594858734132, 0.6092119882098027, 0.5839165492065519, 0.5597266599213848, 0.5366617593737206, 0.5147313973865397, 0.4939311561319208, 0.4742426810612622, 0.4556357494201687, 0.4380709853931142, 0.42150261381965903, 0.4058808739784223, 0.39115399689056757, 0.3772697403905015, 0.36417652933597544, 0.3518242664648602, 0.3401648784428062, 0.3291526613496486, 0.3187444694604344, 0.30889979309613375, 0.2995807554046588, 0.29075205310597396, 0.28238085973972804, 0.2744367052326959, 0.2668913420670853, 0.2597186054228062, 0.2528942722628953, 0.2463959230244585, 0.24020280709242048, 0.23429571755890394, 0.22865687065346782, 0.22326979396047672, 0.21811922191168556, 0.21319099927599594, 0.20847199254244694, 0.203950008284525, 0.19961371762436148, 0.19545258657023776, 0.19145681253566033, 0.18761726689371022, 0.183925442471432, 0.18037340489473852, 0.176953747598253, 0.17365954963114344, 0.17048434071947072, 0.167422066023403, 0.16446705640966816, 0.1616139991526504, 0.15885791077163025, 0.15619411253417032, 0.15361820891011657, 0.1511260682633372, 0.14871380467991527, 0.1463777602814371, 0.14411448839206017, 0.14192073843651362, 0.13979344293171247, 0.13772970622183636, 0.1357267938006229, 0.13378212153954608, 0.1318932449118226, 0.1300578490187774, 0.1282737401595832, 0.12653883897128887, 0.12485117437994447, 0.12320887741844566, 0.12161017448049566, 0.1200533804300362, 0.11853689233473455, 0.11705918458846197, 0.11561880526161586, 0.11421437297679943, 0.11284457341898649, 0.11150815508550732, 0.11020392457625115, 0.10893074224816753, 0.1076875189433618, 0.10647321392377461, 0.10528683348476586, 0.10412742938269537, 0.10299409647011978, 0.10188596952368545, 0.10080221985423433, 0.0997420525028405, 0.09870470454361896, 0.09768944440932972, 0.09669557161739895, 0.0957224161057337, 0.09476933668010476, 0.09383571863713674, 0.09292097113663327] --------BO [0.990098991147819, 0.9433782969368639, 0.9007475432143985, 0.8615376775613034, 0.8252030516653037, 0.7913102741469673, 0.7595169179694772, 0.7295518476100215, 0.7011994999239675, 0.6742878195646161, 0.6486790401622794, 0.6242625384869724, 0.6009491919984618, 0.5786668368121262, 0.5573565429183177, 0.5369695468066165, 0.5174647226032758, 0.49880650763654477, 0.4809632430160855, 0.46390587279746254, 0.44760696268984973, 0.432039994171905, 0.4171788889241643, 0.40299772461948946, 0.3894705881621354, 0.3765715445021892, 0.3642746761971893, 0.35255417108219333, 0.3413844362636983, 0.3307402184423189, 0.3205967284147968, 0.3109297491709471, 0.3017157328382123, 0.2929318801933072, 0.2845562028506121, 0.2765675687045368, 0.26894573192710247, 0.26167134922591895, 0.2547259842407292, 0.2480921019709909, 0.2417530550384259, 0.23569306343882146, 0.2298971894975478, 0.2243513078109919, 0.21904207516522345, 0.21395689593875983, 0.20908388798032934, 0.20441184780457916, 0.19993021590591664, 0.19562904257496616, 0.19149895451254906, 0.18753112246134773, 0.1837172300137257, 0.18004944370382242, 0.17652038458036562, 0.1731231004927373, 0.16985104118310185, 0.16669803328345328, 0.16365825745288334, 0.160726226672336, 0.15789676581693413, 0.1551649924549254, 0.15252629881861, 0.14997633489051512, 0.14751099254724237, 0.14512639070352273, 0.1428188613998781, 0.1405849367786782, 0.13842133689519584, 0.1363249583123321, 0.13429286347980665, 0.13232227054202664, 0.13041054433010463, 0.12855518739082902, 0.1267538318741476, 0.12500423188360874, 0.12330425631728789, 0.12165188216655697, 0.1200451882421463, 0.11848234929893167, 0.11696163053276148, 0.11548138242441866, 0.11404003590748439, 0.11263609783844643, 0.11126814674886938, 0.10993482886082699, 0.10863485434808776, 0.10736699382675151, 0.10613007506016038, 0.10492297986395412, 0.10374464119811941, 0.1025940404337882, 0.10147020478338797, 0.1003722048963247, 0.09929915253132121, 0.09825019849968349, 0.097224530591054, 0.09622137169050418, 0.09523997798978162, 0.09427963730128217, 0.09333966746828319]\n"
     ]
    }
   ],
   "source": [
    "print(\"rMLE:\",MSE_collect8,\"--------BO\",MSE_collect)#1 alpha_u"
   ]
  },
  {
   "cell_type": "code",
   "execution_count": 196,
   "id": "25e72e21",
   "metadata": {},
   "outputs": [
    {
     "name": "stdout",
     "output_type": "stream",
     "text": [
      "rMLE: [0.9900978454343498, 0.9431805058176754, 0.8997719915676465, 0.8591600418662508, 0.8210137312606955, 0.7851788513413367, 0.7514462600743255, 0.7194643944391244, 0.6888480969609081, 0.6593236030683967, 0.6307760948507355, 0.6032117873110137, 0.5766968435818893, 0.5513095709563642, 0.5271134310666148, 0.50414614062919, 0.4824183877969591, 0.46191722007414604, 0.4426111129165262, 0.4244551324155047, 0.40739547792609626, 0.3913731655439394, 0.37632685687825074, 0.362194937313903, 0.3489169807189853, 0.33643473447835903, 0.32469274189301534, 0.3136386955529207, 0.30322360194844067, 0.29340180768973056, 0.28413093615361384, 0.27537176388623585, 0.26708806020437414, 0.25924640644380226, 0.2518160064186853, 0.24476849598568137, 0.238077756932288, 0.2317197388782118, 0.22567228943943257, 0.21991499863971434, 0.21442905098565349, 0.20919709057006047, 0.20420309670655842, 0.19943227011144904, 0.19487092889339303, 0.19050641353650782, 0.18632700022689436, 0.18232182190867463, 0.17848079668999678, 0.17479456260681345, 0.17125441848091477, 0.16785226971947906, 0.16458057897967057, 0.16143232140777594, 0.15840094408464675, 0.15548032905061193, 0.15266475945464872, 0.1499488884130993, 0.147327710588128, 0.14479653645135176, 0.14235096890680235, 0.13998688193722325, 0.1377004007827946, 0.13548788355517288, 0.13334590437176047, 0.1312712380615329, 0.12926084637602353, 0.12731186533041788, 0.12542159335762978, 0.12358748013416468, 0.12180711616143589, 0.12007822330820453, 0.11839864633876342, 0.11676634525014652, 0.1151793881533534, 0.1136359443280722, 0.11213427767089354, 0.11067274048519295, 0.10924976794463574, 0.10786387324513898, 0.10651364322963512, 0.10519773425593708, 0.10391486808731545, 0.10266382779667324, 0.10144345387693858, 0.10025264077485924, 0.09909033395425737, 0.09795552736990404, 0.09684726111524931, 0.09576461900479842, 0.09470672601118515, 0.09367274567193312, 0.09266187769379866, 0.09167335595096646, 0.09070644690702048, 0.08976044831365441, 0.08883468793800675, 0.08792852211674941, 0.08704133409170517, 0.08617253225824738, 0.08532154855430232] --------BO [0.9900992105609767, 0.9434093615768455, 0.9008773120625193, 0.861814527771313, 0.8256425087260191, 0.7918978719280299, 0.7602143597873546, 0.7303031939214804, 0.7019366856749104, 0.6749354690026815, 0.6491586514297495, 0.6244961189769525, 0.6008623635176312, 0.5781914050536606, 0.5564325247512014, 0.5355466200887383, 0.5155031047106842, 0.4962772967121899, 0.4778482579141424, 0.46019708184203545, 0.4433055901672967, 0.4271554055858119, 0.41172735278568806, 0.3970011325874739, 0.3829552115391649, 0.36956687100402813, 0.35681236516646664, 0.3446671450682063, 0.3331061144453308, 0.3221038916873885, 0.31163505995103996, 0.3016743939372774, 0.29219705695741466, 0.2831787657270953, 0.2745959230032592, 0.26642571992445296, 0.258646210941668, 0.251236365117831, 0.24417609487346087, 0.2374462719452614, 0.23102872487254902, 0.22490622777333297, 0.21906247997023132, 0.21348207908526845, 0.20815048937595027, 0.20305400677841037, 0.19817972185226185, 0.19351548179529368, 0.18904985098665508, 0.1847720740413059, 0.18067203710175256, 0.1767402314187187, 0.17296771790256577, 0.16934609308909299, 0.16586745662866262, 0.1625243803603439, 0.1593098789959439, 0.15621738241048155, 0.1532407095142343, 0.15037404376391877, 0.14761190964904242, 0.14494915168394748, 0.14238091363099248, 0.13990261961789424, 0.1375099563549218, 0.1351988565100605, 0.13296548317425416, 0.13080621535061437, 0.12871763440376288, 0.12669651140811314, 0.12473979533674505, 0.12284460203550593, 0.12100820392999576, 0.11922802041611373, 0.11750160893488394, 0.1158266563961137, 0.11420097166589328, 0.11262247803500239, 0.11108920644700601, 0.10959928911376891, 0.10815095354659854, 0.10674251697433546, 0.10537238112170126, 0.10403902732310123, 0.10274101194881984, 0.10147696212218793, 0.10024557170781984, 0.09904559755243672, 0.09787585596110795, 0.09673521939296889, 0.09562261336160613, 0.09453701352635904, 0.09347744296176122, 0.09244296959325445, 0.09143270378814668, 0.09044579609156615, 0.08948143509788434, 0.0885388454609603, 0.08761728595957247, 0.08671604780458875, 0.08583445291359365]\n"
     ]
    }
   ],
   "source": [
    "print(\"rMLE:\",MSE_collect8,\"--------BO\",MSE_collect)#1.2 alpha_u"
   ]
  },
  {
   "cell_type": "code",
   "execution_count": 210,
   "id": "b56681ed",
   "metadata": {},
   "outputs": [
    {
     "name": "stdout",
     "output_type": "stream",
     "text": [
      "rMLE: [0.998003832992282, 0.9940315475220266, 0.9900796746906885, 0.9861411109763607, 0.9822094800482958, 0.9782794375705034, 0.9743471396380817, 0.9704109495009318, 0.9664724908605482, 0.9625381981209167, 0.9586215595435457, 0.9547462865604602, 0.9509506002274706, 0.9472925896842602, 0.9438559514207082, 0.9407539823869958, 0.9381275250212916, 0.936130745262547, 0.9349005302663708, 0.9345145439193341, 0.9349558917558735, 0.9361050895668128, 0.9377643935392304, 0.9396996127777195, 0.9416790873194335, 0.9434987270592059, 0.9449927022071097, 0.9460343513013587, 0.9465321530129585, 0.9464239130961078, 0.9456709629080715, 0.9442531691253532, 0.9421646401700181, 0.9394105437512781, 0.936004492206732, 0.9319665919961688, 0.9273218761719646, 0.922099131899237, 0.916329952246364, 0.9100480520276212, 0.903288799177669, 0.8960888477901638, 0.8884853807356392, 0.8805146212276567, 0.8722103595646411, 0.8636046845428521, 0.8547325670788206, 0.8456374939754653, 0.8363701873206881, 0.8269747923393549, 0.8174687152084799, 0.8078352107894273, 0.7980498307301042, 0.7881348982773286, 0.7781891621918158, 0.7683481737600333, 0.758703935422943, 0.7492365288903853, 0.73978763693831, 0.7301379058411617, 0.7202279465604303, 0.7102813677877731, 0.7006182810302335, 0.6914429402506683, 0.6827855853208227, 0.6744780114480422, 0.6661054778313682, 0.6571930808213193, 0.6478042749049173, 0.6385132939716954, 0.6297538933498019, 0.6216737219526812, 0.6142569465376453, 0.6073513631154678, 0.6005328353581514, 0.5930439367686368, 0.5846763264308807, 0.5762308555787428, 0.5683135880391392, 0.561075112438982, 0.5544986695886878, 0.5485233458652105, 0.5430149258437917, 0.5375569005634222, 0.5312609602056363, 0.5239520826845654, 0.5166414607942271, 0.5098758677938433, 0.5037162394955197, 0.49811152100417644, 0.49301100026102834, 0.48836746752405835, 0.4840543757178075, 0.4795802423701651, 0.4740461813864234, 0.4677682412672124, 0.46172898433320386, 0.45620271205178464, 0.4511591183329317, 0.44653392163610717, 0.44228340581902037, 0.4383852216868246, 0.4348078991799377, 0.43137705465604914, 0.42744102974554965, 0.42247901025751156, 0.4173134794127227, 0.4125127816636084, 0.40812234984955986, 0.4040799663975488, 0.400330417257515, 0.3968413737778534, 0.39360122314570495, 0.39060695048747957, 0.38780940971855904, 0.3849016122714908, 0.3812224286425106, 0.3769926122590631, 0.372922123852096, 0.36918068479982025, 0.36572985201899105, 0.36251393485053307, 0.35949336729033443, 0.35664660516154867, 0.3539678607295208, 0.35146227062058905, 0.3491240056615604, 0.34683490076428547, 0.3441483081743367, 0.3408318470085464, 0.3374499817954815, 0.3343027893544682, 0.3313955014594174, 0.3286810204628585, 0.3261193005561308, 0.323684143048102, 0.3213618322969721, 0.3191496318352744, 0.3170540953522132, 0.31508282105527546, 0.3132005787927278, 0.3111809545855508, 0.30867071480703684, 0.30591798127720393, 0.3032916309288711, 0.3008570823223853, 0.2985831156219099, 0.29643324917544905, 0.29438081633387475, 0.2924089217964825, 0.29050886517796626, 0.2886792918900199, 0.28692583892243123, 0.2852585870451424, 0.2836747070481524, 0.2820826861545803, 0.28021019498220695, 0.27802295839913477, 0.27584510350186975, 0.2738092149733307, 0.2719076149688433, 0.27011003470782324, 0.26839136066516656, 0.2667342623671428, 0.26512784978803106, 0.2635664724806842, 0.2620492622113335, 0.2605802743192576, 0.2591681838648562, 0.25782044251911806, 0.25651077949432916, 0.2550914159013543, 0.2533991734230455, 0.2516097667517004, 0.2499055789430338, 0.2483118051421299, 0.2468072379217979] --------BO [0.9980039582247391, 0.9940347859355811, 0.9900940337234863, 0.9861788059836694, 0.982285939822585, 0.9784121081234771, 0.9745538946325701, 0.9707078480776263, 0.9668705207039782, 0.9630384951504604, 0.95920840202294, 0.9553769331969558, 0.9515408468717601, 0.9476969720170438, 0.9438422081529043, 0.939973527016394, 0.9360879672125826, 0.9321826330276902, 0.9282546894670796, 0.9243013620124282, 0.9203199285783056, 0.9163077184349351, 0.9122621083598235, 0.9081805172090032, 0.9040604116118935, 0.8998992935079456, 0.8956947050107734, 0.8914442233609595, 0.8871454711032789, 0.8827961038122344, 0.8783938173410752, 0.873936356509398, 0.8694215085700715, 0.8648471139896133, 0.860211067783902, 0.8555113371748723, 0.8507459556550873, 0.845913040943302, 0.8410107995961671, 0.8360375538620537, 0.830991735379618, 0.8258719080504797, 0.820676794666341, 0.8154052761964905, 0.8100564174775764, 0.8046294962908482, 0.7991240065950327, 0.7935396891071229, 0.787876544935631, 0.7821348723424782, 0.7763152638883368, 0.7704186347871056, 0.7644462511407343, 0.7583997244939269, 0.7522810361515001, 0.746092538434322, 0.7398369756605923, 0.7335174616428809, 0.7271374894730912, 0.7207009145117527, 0.7142119551230718, 0.7076751505089449, 0.7010953493945097, 0.6944776765672592, 0.6878274946764688, 0.6811503799339657, 0.674452060262275, 0.6677383847327965, 0.6610152753799236, 0.6542886817955218, 0.6475645362667768, 0.6408487103439164, 0.634146973646134, 0.6274649556085431, 0.6208081107474687, 0.6141816878836684, 0.6075907036210341, 0.601039920239257, 0.5945338280289435, 0.5880766319816367, 0.5816722426484545, 0.5753242709013893, 0.5690360262713196, 0.5628105184957679, 0.5566504618859464, 0.5505582821145559, 0.5445361250306999, 0.5385858692708483, 0.5327091291439423, 0.5269072811156463, 0.5211814677137415, 0.515532613794709, 0.5099614405402226, 0.504468479446911, 0.49905408614789076, 0.49371845572766115, 0.4884616283766629, 0.4832835136764485, 0.47818389456248567, 0.47316244093411386, 0.46821872052178354, 0.4633522091208399, 0.4585623001883088, 0.45384831518163626, 0.44920950617576366, 0.444645072586668, 0.44015416205932545, 0.43573587872637876, 0.43138928928758036, 0.42711342858880796, 0.42290730472940097, 0.4187699048266232, 0.41470019467754915, 0.4106971298193054, 0.4067596540009917, 0.40288670368024987, 0.39907721088602116, 0.3953301057965107, 0.39164431905467145, 0.38801878484004115, 0.38445243856307004, 0.3809442250280673, 0.37749309534586906, 0.37409800942298926, 0.37075793709853727, 0.3674718591394107, 0.3642387681064282, 0.3610576691030839, 0.3579275804176748, 0.354847534828577, 0.35181657690107637, 0.34883376830873647, 0.34589818469491324, 0.3430089168190239, 0.34016507074052, 0.3373657679505231, 0.33461014545648393, 0.3318973558247484, 0.32922656718549226, 0.3265969632040887, 0.32400774302260865, 0.3214581217093631, 0.31894732793205416, 0.31647460728873605, 0.31403921975586585, 0.31164044015414527, 0.30927755797172163, 0.30694987717553474, 0.30465671601252664, 0.30239740680223626, 0.3001712957221975, 0.2979777425873803, 0.29581612062481777, 0.2936858162444378, 0.29158622880702006, 0.2895167707755563, 0.2874768658846195, 0.28546595138462477, 0.2834834760878734, 0.28152890058031294, 0.2796016969867918, 0.2777013487376649, 0.2758273503371144, 0.273979207133505, 0.272156435092063, 0.27035856057011504, 0.2685851200951134, 0.26683566014561716, 0.2651097369353986, 0.26340691620079976, 0.26172677299145786, 0.26006889146448, 0.25843286468215565, 0.2568182946541616, 0.2552247911485822, 0.25365197304057074, 0.2520994670620689]\n"
     ]
    }
   ],
   "source": [
    "print(\"rMLE:\",MSE_collect8,\"--------BO\",MSE_collect)#alpha_l0.2 alpha_u0.8"
   ]
  },
  {
   "cell_type": "code",
   "execution_count": 213,
   "id": "1ffceb97",
   "metadata": {},
   "outputs": [
    {
     "name": "stdout",
     "output_type": "stream",
     "text": [
      "rMLE: [0.9960156991464644, 0.988136049024465, 0.980364004853924, 0.9726875329488777, 0.9650960504357471, 0.9575806113792039, 0.9501341474302493, 0.9427517583246852, 0.9354310375988133, 0.9281724048681461, 0.9209793941175943, 0.9138588233938656, 0.9068207432786253, 0.8998780498755654, 0.8930456499557765, 0.8863391186121877, 0.8797728895775883, 0.8733581578797911, 0.86710081799785, 0.8609998371139388, 0.8550464265498521, 0.8492242168511615, 0.8435103885640239, 0.8378775167647814, 0.8322957428781417, 0.8267349150027488, 0.8211664121315617, 0.8155645000868373, 0.8099072016787161, 0.8041767152220327, 0.7983594830280634, 0.7924460058129364, 0.7864305012149313, 0.7803104648145835, 0.7740862069722496, 0.7677603886578173, 0.7613375843177792, 0.7548238837434256, 0.7482265380946976, 0.7415536543283132, 0.7348139299650637, 0.7280164284789384, 0.721170398288295, 0.714285116127575, 0.7073697626850812, 0.7004333224915746, 0.6934845065748285, 0.6865316953400667, 0.6795828962747318, 0.672645707422677, 0.6657272789856599, 0.6588342770429546, 0.6519728739814727, 0.6451487726879714, 0.6383673151534563, 0.6316335611517045, 0.6249522962043996, 0.618327885390322, 0.6117640158662894, 0.6052634971138393, 0.5988283389265325, 0.5924602162697346, 0.5861611702120911, 0.5799341343289817, 0.5737828404245634, 0.5677109554718595, 0.561720774731485, 0.5558121605208495, 0.5499824023401777, 0.5442274408286851, 0.5385441644769995, 0.5329327409989717, 0.5273974824196894, 0.5219454758080814, 0.516583559945383, 0.5113151082760055, 0.506137900594782, 0.5010438349088828, 0.4960209737712554, 0.49105800639646235, 0.48614973078901125, 0.48130030982214456, 0.4765216476978401, 0.4718278950970094, 0.46722970460279445, 0.4627306269304109, 0.45832572696978197, 0.45400175602557613, 0.4497392649826081, 0.44551813835958526, 0.4413264474723802, 0.43716749390093756, 0.43305828685177883, 0.42902035981352316, 0.42507077911054963, 0.4212180972156985, 0.4174620544435377, 0.4137941952105735, 0.41019802087721874, 0.4066497294564345, 0.4031230489111226, 0.39960072297666116, 0.39608608166833015, 0.39260161681423916, 0.38917488113702037, 0.38582621868707, 0.3825654340117859, 0.3793937686846325, 0.37630634645977373, 0.37329294312204675, 0.3703368271062132, 0.3674134326878108, 0.36449380108765483, 0.3615583444612833, 0.35861276451846574, 0.35568526318537347, 0.3528067470283621, 0.34999697907826954, 0.3472636425111107, 0.3446066821817231, 0.34202207377580074, 0.3395034573586604, 0.337041572938086, 0.33462166517435665, 0.3322204051133191, 0.32980851565759595, 0.32736727380132413, 0.32490749617006437, 0.3224622859952106, 0.3200620883387484, 0.3177226733981894, 0.31544783783430874, 0.3132352961321039, 0.3110806427735014, 0.30897910068241774, 0.30692559673442715, 0.3049132187548281, 0.30292973597635514, 0.3009534362161199, 0.29895595522862883, 0.2969224120560951, 0.2948706700461033, 0.2928361743711696, 0.29084493922103005, 0.28890687811396604, 0.2870218587471092, 0.28518578972795017, 0.28339389508490714, 0.2816420375105282, 0.2799269629196433, 0.2782456912035519, 0.2765936222892803, 0.2749605696170744, 0.2733259942300037, 0.2716633151565561, 0.26996416612209934, 0.26825348884720646, 0.26656511239521263, 0.2649179187398336, 0.26331600609137945, 0.2617563873847052, 0.26023410664143404, 0.25874446769460635, 0.257283798960116, 0.2558496077892297, 0.2544403962279603, 0.25305495067973893, 0.2516903682452199, 0.2503377223125893, 0.24897709918920474, 0.24758480960387702, 0.24616095539330474, 0.2447352334660296, 0.24333593498390022, 0.24197419977676046, 0.24064969226217583, 0.23935796257482367] --------BO [0.9960158397298472, 0.988139665573544, 0.980379940442097, 0.9727290701738103, 0.9651796645029227, 0.9577246061807783, 0.9503570960733005, 0.943070680164417, 0.9358592634261025, 0.9287171140156595, 0.9216388603133325, 0.9146194841737729, 0.9076543093168208, 0.9007389890429229, 0.8938694921972474, 0.8870420882152374, 0.8802533342006938, 0.8735000587784394, 0.8667793495533189, 0.8600885398861386, 0.8534251960486924, 0.8467871079465691, 0.840172275853035, 0.8335789022760994, 0.8270053826608987, 0.8204502971899775, 0.8139124021705255, 0.8073906269125829, 0.8008840623555752, 0.7943919582111932, 0.7879137168078384, 0.7814488879528847, 0.7749971626187364, 0.7685583733642565, 0.762132482809723, 0.7557195833644654, 0.7493198917223234, 0.7429337442763104, 0.7365615909189617, 0.730203995687166, 0.7238616241028899, 0.7175352426217475, 0.7112257120128201, 0.704933981579576, 0.6986610831117334, 0.6924081229836958, 0.6861762815323696, 0.679966797829315, 0.6737809679478779, 0.6676201364860389, 0.6614856891974522, 0.6553790455166262, 0.6493016510255198, 0.6432549685672111, 0.6372404759246444, 0.6312596509541992, 0.6253139691350518, 0.6194048953747574, 0.6135338772258773, 0.6077023384058159, 0.6019116726630352, 0.5961632380279968, 0.5904583514817954, 0.5847982840696313, 0.579184256480201, 0.5736174351058919, 0.5680989285925415, 0.5626297848815438, 0.5572109887414338, 0.5518434597807979, 0.5465280509295818, 0.541265547371609, 0.5360566659074569, 0.5309020547237724, 0.5258022935426405, 0.5207578941227635, 0.5157693010828928, 0.5108368930172107, 0.5059609838720658, 0.5011418245536383, 0.49637960473666637, 0.49167445484523215, 0.48702644817778484, 0.4824356031499404, 0.47790188563016417, 0.4734252113451214, 0.4690054483332396, 0.46464241942683904, 0.46033590474500496, 0.45608564418118047, 0.45189133987121477, 0.44775265862930913, 0.44366923434092104, 0.43964067030322834, 0.43566654150519085, 0.4317463968405899, 0.42787976124865923, 0.4240661377780452, 0.42030500957086725, 0.41659584176456393, 0.4129380833100412, 0.4093311687053677, 0.40577451964490563, 0.40226754658433056, 0.3988096502224671, 0.39540022346346626, 0.3920386504317037, 0.38872431126033824, 0.3854565808292738, 0.3822348304811827, 0.3790584290427879, 0.375926743777833, 0.37283914127447076, 0.3697949882698577, 0.36679365241474504, 0.36383450298086906, 0.3609169115139078, 0.3580402524347525, 0.3552039035917711, 0.3524072467666989, 0.349649668136703, 0.34693055869511236, 0.34424931463319886, 0.34160533768532775, 0.3389980354396924, 0.33642682161677184, 0.33389111668391636, 0.33139034657026223, 0.3289239451810573, 0.32649135297386417, 0.32409201751476735, 0.3217253936027694, 0.3193909433742801, 0.3170881363891356, 0.3148164496994852, 0.3125753679028224, 0.310364383180354, 0.3081829953218329, 0.30603071173792157, 0.30390704746107133, 0.3018115251358632, 0.2997436749996778, 0.29770303485452365, 0.2956891500307837, 0.29370157334360764, 0.29173986504261573, 0.28980359275554646, 0.28789233142642773, 0.2860056632488226, 0.2841431775946539, 0.2823044709390831, 0.28048914697472616, 0.27869681573842686, 0.27692709474630894, 0.2751796080708716, 0.27345398646739827, 0.27174986728335754, 0.27006689436634307, 0.26840471797081006, 0.266762994663844, 0.26514138723018343, 0.26353956457669797, 0.26195720163650527, 0.26039397927289776, 0.25884958418323817, 0.2573237088029607, 0.25581605120981554, 0.2543263150284668, 0.25285420933556435, 0.25139944856537366, 0.24996175241606625, 0.24854084575673857, 0.24713645853524457, 0.24574832568689642, 0.24437618704409608, 0.24301978724695028, 0.24167887565491336]\n"
     ]
    }
   ],
   "source": [
    "print(\"rMLE:\",MSE_collect8,\"--------BO\",MSE_collect)#alpha_l0.4apha_u0.6"
   ]
  },
  {
   "cell_type": "code",
   "execution_count": 216,
   "id": "ca88e6b9",
   "metadata": {},
   "outputs": [
    {
     "name": "stdout",
     "output_type": "stream",
     "text": [
      "rMLE: [0.9970087649877404, 0.9910747652488573, 0.9851966733092173, 0.9793648410231401, 0.973570723579587, 0.9678071523554295, 0.9620687188871245, 0.956352295972364, 0.9506577200429873, 0.9449886514755422, 0.9393536016620869, 0.9337670617252666, 0.9282505804775001, 0.9228334864521494, 0.9175527820143632, 0.9124515884478948, 0.9075755415422131, 0.9029669219235323, 0.8986571097052155, 0.8946589885046872, 0.8909615726777587, 0.8875287554896799, 0.8843026827219187, 0.8812106119115468, 0.8781731323594872, 0.8751117456150245, 0.871954576328601, 0.8686398703495941, 0.8651175409693452, 0.8613492970337862, 0.8573078854818573, 0.8529758373511327, 0.8483440827347585, 0.8434105349110391, 0.8381787960209046, 0.8326570023132307, 0.8268568386427875, 0.8207926915438026, 0.814480905120307, 0.8079392850493288, 0.8011865198181688, 0.7942418290085683, 0.78712463460973, 0.779854307646902, 0.772449959516366, 0.7649302358578449, 0.7573130977414133, 0.7496156357220247, 0.7418540723369695, 0.7340440364721117, 0.726200947605049, 0.7183400182595197, 0.7104754811260207, 0.702619165123578, 0.6947795083417863, 0.6869623623223886, 0.6791740278405326, 0.6714249305868971, 0.6637308250405349, 0.656109412886765, 0.648573500999768, 0.6411245869756473, 0.6337513856599671, 0.6264365255786448, 0.6191702632895071, 0.6119628978158467, 0.6048446504055517, 0.5978518165897448, 0.5910090401545444, 0.5843168793745046, 0.5777474886117135, 0.5712512136333682, 0.5647796326960881, 0.558319269340325, 0.55190677040649, 0.5456065473122509, 0.539475016216763, 0.5335401249279669, 0.5277962277757139, 0.5222029424319263, 0.516686807150588, 0.5111618697296825, 0.5055829075920396, 0.49998821778216324, 0.49446951239519293, 0.4891084341167551, 0.4839483167529194, 0.47899781908831185, 0.4742384824015048, 0.469623388921003, 0.46506970112268875, 0.46047003846099654, 0.4557594479700353, 0.4509853684704811, 0.4462634569324177, 0.44168580512098654, 0.4372941507359297, 0.4330960321510584, 0.429080987593323, 0.4252249367641465, 0.42148208591414493, 0.417768835239531, 0.4139704910082369, 0.4100251859058933, 0.40600492451380654, 0.40203833778619097, 0.398207609682125, 0.39454021805085904, 0.39103569979089314, 0.3876837233234469, 0.38447016672274825, 0.381373849532177, 0.3783529249797546, 0.37532395488959025, 0.3721748834972459, 0.36887225909133764, 0.3655195389019522, 0.3622368138065856, 0.359080387298116, 0.3560601843262266, 0.3531684520428872, 0.35039399660081816, 0.34772674099954864, 0.34515681608856785, 0.3426676864360001, 0.3402191969196037, 0.33772606992849863, 0.3350913604813461, 0.33232956425336896, 0.32956112491654954, 0.3268758922789551, 0.3243013771365311, 0.32183446905562013, 0.31946384485456875, 0.31717867527983923, 0.3149710862673002, 0.31283592520638925, 0.3107679198835745, 0.3087530567634738, 0.306748992457342, 0.30466937518567966, 0.3024498453126628, 0.3001533300932101, 0.29788879974180865, 0.2957083986706781, 0.29361849247168553, 0.2916095652263632, 0.2896700009428236, 0.28779039593179156, 0.2859645193284961, 0.28418918124999326, 0.28246321872528685, 0.28078406437954173, 0.2791373705080287, 0.2774757512718618, 0.27571900345844663, 0.2738496324633099, 0.27195622402278796, 0.27011558399810637, 0.26834948485083066, 0.26665307972843927, 0.265015363392201, 0.2634262107448639, 0.2618780516107073, 0.26036601925763314, 0.25888779330766204, 0.2574433055251611, 0.2560336877631922, 0.2546571937459622, 0.253296753074272, 0.2518999318011908, 0.2504053992116031, 0.2488411653260704, 0.24729115735214277, 0.24579773165285052, 0.24436454762838894, 0.2429827430403383] --------BO [0.9970089086549337, 0.991078470808164, 0.9852130528882503, 0.9794076899894285, 0.9736573140753876, 0.9679568547847033, 0.9623013112995523, 0.9566858023504455, 0.9511056001548116, 0.9455561523192169, 0.9400330944288655, 0.9345322579521803, 0.9290496707110505, 0.9235815564445014, 0.9181243305997522, 0.912674597009951, 0.9072291401494785, 0.9017849200810675, 0.896339065978108, 0.8908888690354132, 0.8854317800626788, 0.8799654000661472, 0.8744874780511489, 0.868995906478483, 0.8634887163229209, 0.857964079824115, 0.8524203015085997, 0.8468558210986278, 0.8412692105597347, 0.8356591790027389, 0.8300245669155262, 0.8243643512028527, 0.8186776460244979, 0.812963702978349, 0.8072219205126892, 0.8014518374966468, 0.795653141856407, 0.7898256724510326, 0.7839694197903877, 0.7780845379557821, 0.7721713354858979, 0.7662302853341048, 0.7602620253353878, 0.7542673570843533, 0.7482472568964029, 0.7422028621376043, 0.7361354790612167, 0.7300465790831044, 0.723937793340899, 0.7178109185171171, 0.7116678979376252, 0.7055108237430183, 0.6993419271860819, 0.6931635697160791, 0.6869782303050784, 0.6807885039403505, 0.6745970754489354, 0.6684067151356039, 0.6622202626993287, 0.6560406126405279, 0.6498706992226553, 0.6437134811719621, 0.6375719240849305, 0.6314489938396866, 0.6253476289737678, 0.6192707344404744, 0.6132211657802091, 0.6072017160865409, 0.6012151038923292, 0.5952639620821671, 0.589350827914457, 0.5834781342129607, 0.5776482017644707, 0.5718632329369446, 0.5661253065116585, 0.5604363737040952, 0.5547982553317183, 0.5492126400727526, 0.5436810837486225, 0.5382050095538686, 0.5327857091510199, 0.5274243445439086, 0.5221219506410772, 0.5168794384209622, 0.5116975986122105, 0.5065771058055022, 0.5015185229173436, 0.49652230593122426, 0.4915888088470277, 0.4867182901340429, 0.4819109123456866, 0.47716675589891877, 0.47248581843365134, 0.467868021476703, 0.46331321552448357, 0.45882118501618546, 0.45439165317386143, 0.4500242866901645, 0.4457187002485738, 0.4414744608645065, 0.43729109203894545, 0.43316807771903176, 0.42910486606252396, 0.42510087300515687, 0.42115548654944546, 0.4172680661549951, 0.41343795159327673, 0.4096644617018137, 0.4059468980539408, 0.40228454740601377, 0.3986766839772302, 0.39512257156902497, 0.39162146553122423, 0.38817261458227037, 0.3847752624908527, 0.38142864962627193, 0.37813201438474686, 0.3748845944987452, 0.3716856288771856, 0.36853435605291285, 0.3654300192918122, 0.3623718646606669, 0.35935914258824597, 0.3563911086095458, 0.35346702403630403, 0.3505861565589036, 0.3477477807845319, 0.34495117871616965, 0.34219564017674936, 0.3394804631825492, 0.33680495426965973, 0.3341684287771184, 0.33157021109007656, 0.3290096353083382, 0.32648604351077604, 0.32399878885545264, 0.3215472336496912, 0.3191307499669036, 0.31674871970940066, 0.3144005346493639, 0.3120855964499123, 0.30980331666804906, 0.3075531167411525, 0.3053344279585428, 0.30314669141955863, 0.3009893579794528, 0.2988618881843357, 0.29676375219628903, 0.2946944297096875, 0.29265340985969834, 0.2906401911238341, 0.28865428121737974, 0.28669519725326953, 0.28476246451560167, 0.28285561806144754, 0.2809742014134833, 0.2791177667416918, 0.2772858747358189, 0.27547809447583294, 0.2736940033007923, 0.2719331866765038, 0.27019523806230283, 0.2684797587772724, 0.26678635786617894, 0.26511465196538464, 0.2634642651689628, 0.2618348288952346, 0.260225981753905, 0.2586373694139802, 0.25706864447260935, 0.255519466324995, 0.25398950103548706, 0.2524784212099771, 0.25098590586968106, 0.24951164032639955, 0.24805531621547233, 0.24661663073247914]\n"
     ]
    }
   ],
   "source": [
    "print(\"rMLE:\",MSE_collect8,\"--------BO\",MSE_collect)#alpha_l0.3apha_u0.7"
   ]
  },
  {
   "cell_type": "code",
   "execution_count": 206,
   "id": "ea8a10f4",
   "metadata": {},
   "outputs": [
    {
     "data": {
      "text/plain": [
       "71"
      ]
     },
     "execution_count": 206,
     "metadata": {},
     "output_type": "execute_result"
    }
   ],
   "source": [
    "len(MSE_collect8)"
   ]
  },
  {
   "cell_type": "code",
   "execution_count": 207,
   "id": "6e073c4b",
   "metadata": {},
   "outputs": [
    {
     "data": {
      "text/plain": [
       "71"
      ]
     },
     "execution_count": 207,
     "metadata": {},
     "output_type": "execute_result"
    }
   ],
   "source": [
    "len(MSE_collect)"
   ]
  },
  {
   "cell_type": "code",
   "execution_count": null,
   "id": "85684aea",
   "metadata": {},
   "outputs": [],
   "source": []
  }
 ],
 "metadata": {
  "kernelspec": {
   "display_name": "Python 3 (ipykernel)",
   "language": "python",
   "name": "python3"
  },
  "language_info": {
   "codemirror_mode": {
    "name": "ipython",
    "version": 3
   },
   "file_extension": ".py",
   "mimetype": "text/x-python",
   "name": "python",
   "nbconvert_exporter": "python",
   "pygments_lexer": "ipython3",
   "version": "3.9.12"
  }
 },
 "nbformat": 4,
 "nbformat_minor": 5
}
