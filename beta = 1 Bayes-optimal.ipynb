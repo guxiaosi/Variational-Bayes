{
 "cells": [
  {
   "cell_type": "code",
   "execution_count": 28,
   "id": "19dffa1f",
   "metadata": {},
   "outputs": [],
   "source": [
    "#SE beta = 1\n",
    "import numpy as np\n",
    "from numpy import linalg as LA\n",
    "import matplotlib.pyplot as plt\n",
    "import random\n",
    "import math\n",
    "\n",
    "def y_s(p,t):#using iteration to solve y^*\n",
    "    eps = 1e-12 #epsilon\n",
    "    y_st = 1 #initial y^*\n",
    "    y_pre = 0\n",
    "    while LA.norm(y_st-y_pre)>eps:\n",
    "        y_pre = y_st\n",
    "        y_st = np.tanh(p+np.sqrt(t)*y_pre)*np.sqrt(t)\n",
    "    return y_st\n",
    "\n",
    "def F(p, t):\n",
    "    return y_s(p,t)/(np.sqrt(t))\n",
    "\n",
    "def T(p, t):\n",
    "    return (1-F(p,t)**2)/(1-t*(1-F(p,t)**2))\n",
    "\n",
    "def se2(sigma2,sigma0,alpha_l,alpha_u):\n",
    "    \n",
    "    k_collect_se2 = []\n",
    "    sigma2_collect_se2 = []\n",
    "    chi_collect_se2 = []\n",
    "    k_t = 0.01\n",
    "    sigma_t2 = 0\n",
    "    chi_t =0.1\n",
    "    \n",
    "    sigma_s2 = 1/sigma2\n",
    "    eps = 1e-6\n",
    "    parameter_old = np.array([k_t,sigma_t2,chi_t])\n",
    "    parameter_new = np.array([1,1,1])\n",
    "    iter_se2 = 0\n",
    "    \n",
    "    k_collect_se2.append(k_t)\n",
    "    sigma2_collect_se2.append(sigma_t2)\n",
    "    chi_collect_se2.append(chi_t)\n",
    "    \n",
    "    while LA.norm(parameter_new - parameter_old)>eps:\n",
    "        parameter_old = np.array([k_t,sigma_t2,chi_t])\n",
    "        sum_t = 0\n",
    "        sum_f = 0\n",
    "        sum_f2 = 0\n",
    "        iter_se2 += 1\n",
    "        for z in np.arange(-10,10,0.1):\n",
    "            sum_t += np.exp(-1/2*z**2)*T(k_t*sigma_s2+np.sqrt(k_t**2*sigma_s2+sigma_t2/sigma2)*z,chi_t/sigma2)/np.sqrt(2*np.pi)/10\n",
    "            sum_f += np.exp(-1/2*z**2)*F(k_t*sigma_s2+np.sqrt(k_t**2*sigma_s2+sigma_t2/sigma2)*z,chi_t/sigma2)/np.sqrt(2*np.pi)/10\n",
    "            sum_f2 += np.exp(-1/2*z**2)*F(k_t*sigma_s2+np.sqrt(k_t**2*sigma_s2+sigma_t2/sigma2)*z,chi_t/sigma2)**2/np.sqrt(2*np.pi)/10\n",
    "        chi_new = 1/(1/sigma0 + (alpha_l+alpha_u)/sigma2- alpha_u*sum_t/sigma2)\n",
    "        k_new = chi_t*(alpha_l/sigma2 + alpha_u*sum_f/sigma2)\n",
    "        sigma_new = chi_t**2*(alpha_l/sigma2 + alpha_u*sum_f2/sigma2)\n",
    "        parameter_new = np.array([k_new,sigma_new,chi_new])\n",
    "        chi_collect_se2.append(chi_new)\n",
    "        k_collect_se2.append(k_new)\n",
    "        sigma2_collect_se2.append(sigma_new)\n",
    "        chi = chi_new\n",
    "        k_t = k_new\n",
    "        sigma_t2 = sigma_new\n",
    "    return k_collect_se2,sigma2_collect_se2,chi_collect_se2,iter_se2"
   ]
  },
  {
   "cell_type": "code",
   "execution_count": 29,
   "id": "56725417",
   "metadata": {},
   "outputs": [
    {
     "ename": "KeyboardInterrupt",
     "evalue": "",
     "output_type": "error",
     "traceback": [
      "\u001b[0;31m---------------------------------------------------------------------------\u001b[0m",
      "\u001b[0;31mKeyboardInterrupt\u001b[0m                         Traceback (most recent call last)",
      "Input \u001b[0;32mIn [29]\u001b[0m, in \u001b[0;36m<cell line: 1>\u001b[0;34m()\u001b[0m\n\u001b[0;32m----> 1\u001b[0m \u001b[38;5;28mprint\u001b[39m(\u001b[43mse2\u001b[49m\u001b[43m(\u001b[49m\u001b[38;5;241;43m1\u001b[39;49m\u001b[43m,\u001b[49m\u001b[38;5;241;43m1\u001b[39;49m\u001b[43m,\u001b[49m\u001b[38;5;241;43m0\u001b[39;49m\u001b[43m,\u001b[49m\u001b[38;5;241;43m1\u001b[39;49m\u001b[43m)\u001b[49m[\u001b[38;5;241m0\u001b[39m][\u001b[38;5;241m-\u001b[39m\u001b[38;5;241m1\u001b[39m])\n",
      "Input \u001b[0;32mIn [28]\u001b[0m, in \u001b[0;36mse2\u001b[0;34m(sigma2, sigma0, alpha_l, alpha_u)\u001b[0m\n\u001b[1;32m     48\u001b[0m \u001b[38;5;28;01mfor\u001b[39;00m z \u001b[38;5;129;01min\u001b[39;00m np\u001b[38;5;241m.\u001b[39marange(\u001b[38;5;241m-\u001b[39m\u001b[38;5;241m10\u001b[39m,\u001b[38;5;241m10\u001b[39m,\u001b[38;5;241m0.1\u001b[39m):\n\u001b[1;32m     49\u001b[0m     sum_t \u001b[38;5;241m+\u001b[39m\u001b[38;5;241m=\u001b[39m np\u001b[38;5;241m.\u001b[39mexp(\u001b[38;5;241m-\u001b[39m\u001b[38;5;241m1\u001b[39m\u001b[38;5;241m/\u001b[39m\u001b[38;5;241m2\u001b[39m\u001b[38;5;241m*\u001b[39mz\u001b[38;5;241m*\u001b[39m\u001b[38;5;241m*\u001b[39m\u001b[38;5;241m2\u001b[39m)\u001b[38;5;241m*\u001b[39mT(k_t\u001b[38;5;241m*\u001b[39msigma_s2\u001b[38;5;241m+\u001b[39mnp\u001b[38;5;241m.\u001b[39msqrt(k_t\u001b[38;5;241m*\u001b[39m\u001b[38;5;241m*\u001b[39m\u001b[38;5;241m2\u001b[39m\u001b[38;5;241m*\u001b[39msigma_s2\u001b[38;5;241m+\u001b[39msigma_t2\u001b[38;5;241m/\u001b[39msigma2)\u001b[38;5;241m*\u001b[39mz,chi_t\u001b[38;5;241m/\u001b[39msigma2)\u001b[38;5;241m/\u001b[39mnp\u001b[38;5;241m.\u001b[39msqrt(\u001b[38;5;241m2\u001b[39m\u001b[38;5;241m*\u001b[39mnp\u001b[38;5;241m.\u001b[39mpi)\u001b[38;5;241m/\u001b[39m\u001b[38;5;241m10\u001b[39m\n\u001b[0;32m---> 50\u001b[0m     sum_f \u001b[38;5;241m+\u001b[39m\u001b[38;5;241m=\u001b[39m np\u001b[38;5;241m.\u001b[39mexp(\u001b[38;5;241m-\u001b[39m\u001b[38;5;241m1\u001b[39m\u001b[38;5;241m/\u001b[39m\u001b[38;5;241m2\u001b[39m\u001b[38;5;241m*\u001b[39mz\u001b[38;5;241m*\u001b[39m\u001b[38;5;241m*\u001b[39m\u001b[38;5;241m2\u001b[39m)\u001b[38;5;241m*\u001b[39m\u001b[43mF\u001b[49m\u001b[43m(\u001b[49m\u001b[43mk_t\u001b[49m\u001b[38;5;241;43m*\u001b[39;49m\u001b[43msigma_s2\u001b[49m\u001b[38;5;241;43m+\u001b[39;49m\u001b[43mnp\u001b[49m\u001b[38;5;241;43m.\u001b[39;49m\u001b[43msqrt\u001b[49m\u001b[43m(\u001b[49m\u001b[43mk_t\u001b[49m\u001b[38;5;241;43m*\u001b[39;49m\u001b[38;5;241;43m*\u001b[39;49m\u001b[38;5;241;43m2\u001b[39;49m\u001b[38;5;241;43m*\u001b[39;49m\u001b[43msigma_s2\u001b[49m\u001b[38;5;241;43m+\u001b[39;49m\u001b[43msigma_t2\u001b[49m\u001b[38;5;241;43m/\u001b[39;49m\u001b[43msigma2\u001b[49m\u001b[43m)\u001b[49m\u001b[38;5;241;43m*\u001b[39;49m\u001b[43mz\u001b[49m\u001b[43m,\u001b[49m\u001b[43mchi_t\u001b[49m\u001b[38;5;241;43m/\u001b[39;49m\u001b[43msigma2\u001b[49m\u001b[43m)\u001b[49m\u001b[38;5;241m/\u001b[39mnp\u001b[38;5;241m.\u001b[39msqrt(\u001b[38;5;241m2\u001b[39m\u001b[38;5;241m*\u001b[39mnp\u001b[38;5;241m.\u001b[39mpi)\u001b[38;5;241m/\u001b[39m\u001b[38;5;241m10\u001b[39m\n\u001b[1;32m     51\u001b[0m     sum_f2 \u001b[38;5;241m+\u001b[39m\u001b[38;5;241m=\u001b[39m np\u001b[38;5;241m.\u001b[39mexp(\u001b[38;5;241m-\u001b[39m\u001b[38;5;241m1\u001b[39m\u001b[38;5;241m/\u001b[39m\u001b[38;5;241m2\u001b[39m\u001b[38;5;241m*\u001b[39mz\u001b[38;5;241m*\u001b[39m\u001b[38;5;241m*\u001b[39m\u001b[38;5;241m2\u001b[39m)\u001b[38;5;241m*\u001b[39mF(k_t\u001b[38;5;241m*\u001b[39msigma_s2\u001b[38;5;241m+\u001b[39mnp\u001b[38;5;241m.\u001b[39msqrt(k_t\u001b[38;5;241m*\u001b[39m\u001b[38;5;241m*\u001b[39m\u001b[38;5;241m2\u001b[39m\u001b[38;5;241m*\u001b[39msigma_s2\u001b[38;5;241m+\u001b[39msigma_t2\u001b[38;5;241m/\u001b[39msigma2)\u001b[38;5;241m*\u001b[39mz,chi_t\u001b[38;5;241m/\u001b[39msigma2)\u001b[38;5;241m*\u001b[39m\u001b[38;5;241m*\u001b[39m\u001b[38;5;241m2\u001b[39m\u001b[38;5;241m/\u001b[39mnp\u001b[38;5;241m.\u001b[39msqrt(\u001b[38;5;241m2\u001b[39m\u001b[38;5;241m*\u001b[39mnp\u001b[38;5;241m.\u001b[39mpi)\u001b[38;5;241m/\u001b[39m\u001b[38;5;241m10\u001b[39m\n\u001b[1;32m     52\u001b[0m chi_new \u001b[38;5;241m=\u001b[39m \u001b[38;5;241m1\u001b[39m\u001b[38;5;241m/\u001b[39m(\u001b[38;5;241m1\u001b[39m\u001b[38;5;241m/\u001b[39msigma0 \u001b[38;5;241m+\u001b[39m (alpha_l\u001b[38;5;241m+\u001b[39malpha_u)\u001b[38;5;241m/\u001b[39msigma2\u001b[38;5;241m-\u001b[39m alpha_u\u001b[38;5;241m*\u001b[39msum_t\u001b[38;5;241m/\u001b[39msigma2)\n",
      "Input \u001b[0;32mIn [28]\u001b[0m, in \u001b[0;36mF\u001b[0;34m(p, t)\u001b[0m\n\u001b[1;32m     17\u001b[0m \u001b[38;5;28;01mdef\u001b[39;00m \u001b[38;5;21mF\u001b[39m(p, t):\n\u001b[0;32m---> 18\u001b[0m     \u001b[38;5;28;01mreturn\u001b[39;00m \u001b[43my_s\u001b[49m\u001b[43m(\u001b[49m\u001b[43mp\u001b[49m\u001b[43m,\u001b[49m\u001b[43mt\u001b[49m\u001b[43m)\u001b[49m\u001b[38;5;241m/\u001b[39m(np\u001b[38;5;241m.\u001b[39msqrt(t))\n",
      "Input \u001b[0;32mIn [28]\u001b[0m, in \u001b[0;36my_s\u001b[0;34m(p, t)\u001b[0m\n\u001b[1;32m     10\u001b[0m y_st \u001b[38;5;241m=\u001b[39m \u001b[38;5;241m1\u001b[39m \u001b[38;5;66;03m#initial y^*\u001b[39;00m\n\u001b[1;32m     11\u001b[0m y_pre \u001b[38;5;241m=\u001b[39m \u001b[38;5;241m0\u001b[39m\n\u001b[0;32m---> 12\u001b[0m \u001b[38;5;28;01mwhile\u001b[39;00m \u001b[43mLA\u001b[49m\u001b[38;5;241;43m.\u001b[39;49m\u001b[43mnorm\u001b[49m\u001b[43m(\u001b[49m\u001b[43my_st\u001b[49m\u001b[38;5;241;43m-\u001b[39;49m\u001b[43my_pre\u001b[49m\u001b[43m)\u001b[49m\u001b[38;5;241m>\u001b[39meps:\n\u001b[1;32m     13\u001b[0m     y_pre \u001b[38;5;241m=\u001b[39m y_st\n\u001b[1;32m     14\u001b[0m     y_st \u001b[38;5;241m=\u001b[39m np\u001b[38;5;241m.\u001b[39mtanh(p\u001b[38;5;241m+\u001b[39mnp\u001b[38;5;241m.\u001b[39msqrt(t)\u001b[38;5;241m*\u001b[39my_pre)\u001b[38;5;241m*\u001b[39mnp\u001b[38;5;241m.\u001b[39msqrt(t)\n",
      "File \u001b[0;32m<__array_function__ internals>:5\u001b[0m, in \u001b[0;36mnorm\u001b[0;34m(*args, **kwargs)\u001b[0m\n",
      "File \u001b[0;32m/opt/anaconda3/lib/python3.9/site-packages/numpy/linalg/linalg.py:2531\u001b[0m, in \u001b[0;36mnorm\u001b[0;34m(x, ord, axis, keepdims)\u001b[0m\n\u001b[1;32m   2529\u001b[0m \u001b[38;5;28;01melse\u001b[39;00m:\n\u001b[1;32m   2530\u001b[0m     sqnorm \u001b[38;5;241m=\u001b[39m dot(x, x)\n\u001b[0;32m-> 2531\u001b[0m ret \u001b[38;5;241m=\u001b[39m \u001b[43msqrt\u001b[49m\u001b[43m(\u001b[49m\u001b[43msqnorm\u001b[49m\u001b[43m)\u001b[49m\n\u001b[1;32m   2532\u001b[0m \u001b[38;5;28;01mif\u001b[39;00m keepdims:\n\u001b[1;32m   2533\u001b[0m     ret \u001b[38;5;241m=\u001b[39m ret\u001b[38;5;241m.\u001b[39mreshape(ndim\u001b[38;5;241m*\u001b[39m[\u001b[38;5;241m1\u001b[39m])\n",
      "\u001b[0;31mKeyboardInterrupt\u001b[0m: "
     ]
    }
   ],
   "source": [
    "print(se2(1,1,0,1)[0][-1])"
   ]
  },
  {
   "cell_type": "code",
   "execution_count": 75,
   "id": "5661bec2",
   "metadata": {},
   "outputs": [],
   "source": [
    "#beta = infinity\n",
    "def se2(alpha_l,alpha_u,sigma_0,sigma2):\n",
    "    sigma2_collect_se2 = []\n",
    "    k_collect_se2 = []\n",
    "    chi_collect_se2 = []\n",
    "    chi_t = 0.1\n",
    "    k_t = 0.01\n",
    "    sigma_s2 = 1/sigma2\n",
    "    #sigma_0 = 1\n",
    "    #sigma_s2 = 1\n",
    "    sigma_t2 = 0\n",
    "    eps = 1e-8\n",
    "    parameter_old = np.array([chi_t,k_t,sigma_t2])\n",
    "    parameter_new = np.array([1,1,1])\n",
    "    iter_se2 = 0\n",
    "    chi_collect_se2.append(chi_t)\n",
    "    k_collect_se2.append(k_t)\n",
    "    sigma2_collect_se2.append(sigma_t2)\n",
    "    \n",
    "    def y_s(p,t):\n",
    "        eps = 1e-12 #epsilon\n",
    "        y_gst = 1 #initial y^*\n",
    "        y_pre = 0\n",
    "        while LA.norm(y_gst-y_pre)>eps:\n",
    "            y_pre = y_gst\n",
    "            y_st = np.tanh(p+np.sqrt(t)*y_pre)*np.sqrt(t)\n",
    "        return y_gst\n",
    "    def F(p,t): #F function\n",
    "        return y_s(p,t)/(np.sqrt(t))\n",
    "    \n",
    "    def T(p,t): #T function\n",
    "        return (1-F(p,t)**2)/(1-t*(1-F(p,t)**2))\n",
    "    \n",
    "    while LA.norm(parameter_new - parameter_old)>eps:\n",
    "        parameter_old = np.array([chi_t,k_t,sigma_t2])\n",
    "        sum_t_1 = 0\n",
    "        #sum_t_2 = 0\n",
    "        sum_f_1 = 0\n",
    "        #sum_f_2 = 0\n",
    "        sum_f2_1 = 0\n",
    "        #sum_f2_2 = 0\n",
    "        iter_se2 += 1\n",
    "        for z in np.arange(-10,10,0.1):\n",
    "            sum_t_1 += np.exp(-1/2*z**2)*T(k_t*sigma_s2+np.sqrt(k_t**2*sigma_s2+sigma_t2/sigma2)*z,chi_t/sigma2)/np.sqrt(2*np.pi)/10\n",
    "            #sum_t_2 += np.exp(-1/2*z**2)*T(-k_t*sigma_s2+np.sqrt(k_t**2*sigma_s2+sigma_t2)*z,chi_t)/np.sqrt(2*np.pi)/10\n",
    "            sum_f_1 += np.exp(-1/2*z**2)*F(k_t*sigma_s2+np.sqrt(k_t**2*sigma_s2+sigma_t2/sigma2)*z,chi_t/sigma2)/np.sqrt(2*np.pi)/10\n",
    "            #sum_f_2 += np.exp(-1/2*z**2)*F(-k_t*sigma_s2+np.sqrt(k_t**2*sigma_s2+sigma_t2)*z,chi_t)/np.sqrt(2*np.pi)/10\n",
    "            sum_f2_1 += np.exp(-1/2*z**2)*F(k_t*sigma_s2+np.sqrt(k_t**2*sigma_s2+sigma_t2/sigma2)*z,chi_t/sigma2)**2/np.sqrt(2*np.pi)/10\n",
    "            #sum_f2_2 += np.exp(-1/2*z**2)*F(-k_t*sigma_s2+np.sqrt(k_t**2*sigma_s2+sigma_t2)*z,chi_t)**2/np.sqrt(2*np.pi)/10\n",
    "        chi_new = 1/(1/sigma_0 + alpha_l/sigma2 + alpha_u/sigma2 - alpha_u*sum_t_1/sigma2)\n",
    "        k_new = chi_new*(alpha_l/sigma2 + alpha_u*sum_f_1/sigma2)\n",
    "        sigma_new = chi_new**2*(alpha_l/sigma2 + alpha_u*sum_f2_1/sigma2)\n",
    "        parameter_new = np.array([chi_new,k_new,sigma_new])\n",
    "        chi_collect_se2.append(chi_new)\n",
    "        k_collect_se2.append(k_new)\n",
    "        sigma2_collect_se2.append(sigma_new)\n",
    "        chi_t = chi_new\n",
    "        k_t = k_new\n",
    "        sigma_t2 = sigma_new\n",
    "    return k_collect_se2,sigma2_collect_se2,chi_collect_se2,iter_se2"
   ]
  },
  {
   "cell_type": "code",
   "execution_count": 76,
   "id": "01ab4760",
   "metadata": {},
   "outputs": [
    {
     "name": "stdout",
     "output_type": "stream",
     "text": [
      "3.825703752684727e-08\n"
     ]
    }
   ],
   "source": [
    "print(se2(1,3,3,10)[0][-1])"
   ]
  },
  {
   "cell_type": "code",
   "execution_count": 306,
   "id": "ab5db0c4",
   "metadata": {},
   "outputs": [],
   "source": [
    "#SE beta = 1\n",
    "import numpy as np\n",
    "from numpy import linalg as LA\n",
    "import matplotlib.pyplot as plt\n",
    "import random\n",
    "import math\n",
    "\n",
    "def se2(alpha_l,alpha_u,sigma_0,sigma2):\n",
    "    sigma2_collect_se2 = []\n",
    "    k_collect_se2 = []\n",
    "    #chi_collect_se2 = []\n",
    "    chi = 1/(1/sigma_0 + (alpha_l+alpha_u)/sigma2)\n",
    "    k_t = 0.01\n",
    "    sigma_s2 = 1/sigma2\n",
    "    #sigma_0 = 1\n",
    "    #sigma_s2 = 1\n",
    "    sigma_t2 = 0\n",
    "    eps = 1e-8\n",
    "    parameter_old = np.array([k_t,sigma_t2])\n",
    "    parameter_new = np.array([1,1])\n",
    "    iter_se2 = 0\n",
    "    k_collect_se2.append(k_t)\n",
    "    sigma2_collect_se2.append(sigma_t2)\n",
    "    \n",
    "    \n",
    "    while LA.norm(parameter_new - parameter_old)>eps:\n",
    "        parameter_old = np.array([k_t,sigma_t2])\n",
    "        sum_1 = 0\n",
    "        sum_2 = 0\n",
    "        iter_se2 += 1\n",
    "        for z in np.arange(-10,10,0.1):\n",
    "            sum_1 += np.exp(-1/2*z**2)*math.tanh(k_t*sigma_s2+np.sqrt(k_t**2*sigma_s2+sigma_t2/sigma2)*z)/np.sqrt(2*np.pi)/10\n",
    "            sum_2 += np.exp(-1/2*z**2)*(math.tanh(k_t*sigma_s2+np.sqrt(k_t**2*sigma_s2+sigma_t2/sigma2)*z))**2/np.sqrt(2*np.pi)/10\n",
    "            \n",
    "        k_new = chi*(alpha_l/sigma2 + alpha_u*sum_1/sigma2)\n",
    "        sigma_new = chi**2*(alpha_l/sigma2 + alpha_u*sum_2/sigma2)\n",
    "        parameter_new = np.array([k_new,sigma_new])\n",
    "        \n",
    "        k_collect_se2.append(k_new)\n",
    "        sigma2_collect_se2.append(sigma_new)\n",
    "    \n",
    "        k_t = k_new\n",
    "        sigma_t2 = sigma_new\n",
    "    return k_collect_se2,sigma2_collect_se2,iter_se2"
   ]
  },
  {
   "cell_type": "code",
   "execution_count": 307,
   "id": "17771c5c",
   "metadata": {},
   "outputs": [],
   "source": [
    "se = se2(10,2,1,1)"
   ]
  },
  {
   "cell_type": "code",
   "execution_count": 308,
   "id": "60a08bc2",
   "metadata": {},
   "outputs": [
    {
     "name": "stdout",
     "output_type": "stream",
     "text": [
      "0.8473818158700646 0.06501095855092465\n"
     ]
    }
   ],
   "source": [
    "print(se[0][-1],se[1][-1])"
   ]
  },
  {
   "cell_type": "code",
   "execution_count": 288,
   "id": "321c3801",
   "metadata": {},
   "outputs": [],
   "source": [
    "def Q(k,sigma):\n",
    "    sigma_0 =1\n",
    "    sigma2 = 1\n",
    "    return k**2*sigma_0/np.sqrt(sigma2*(k**2*sigma_0+sigma))"
   ]
  },
  {
   "cell_type": "code",
   "execution_count": 289,
   "id": "28b0c08e",
   "metadata": {},
   "outputs": [
    {
     "data": {
      "text/plain": [
       "0.811444548261007"
      ]
     },
     "execution_count": 289,
     "metadata": {},
     "output_type": "execute_result"
    }
   ],
   "source": [
    "Q(se[0][-1],se[1][-1])"
   ]
  },
  {
   "cell_type": "code",
   "execution_count": 183,
   "id": "4ec8eeda",
   "metadata": {},
   "outputs": [
    {
     "data": {
      "text/plain": [
       "2.233830893748439e-08"
      ]
     },
     "execution_count": 183,
     "metadata": {},
     "output_type": "execute_result"
    }
   ],
   "source": [
    "np.sqrt(4.99000046186495e-16)"
   ]
  },
  {
   "cell_type": "code",
   "execution_count": 184,
   "id": "12332f65",
   "metadata": {},
   "outputs": [
    {
     "data": {
      "text/plain": [
       "0.3343989297647526"
      ]
     },
     "execution_count": 184,
     "metadata": {},
     "output_type": "execute_result"
    }
   ],
   "source": [
    "7.469906601449187e-09/2.233830893748439e-08"
   ]
  },
  {
   "cell_type": "code",
   "execution_count": 179,
   "id": "01304a37",
   "metadata": {},
   "outputs": [
    {
     "name": "stdout",
     "output_type": "stream",
     "text": [
      "The result of the standard Gaussian integral is: 0.3755697678853019\n"
     ]
    }
   ],
   "source": [
    "def Q(k,sigma):\n",
    "    sigma_0 =1\n",
    "    sigma2 = 1\n",
    "    return k*sigma_0/np.sqrt(sigma2*(k**2*sigma_0+sigma))\n",
    "def integrand(x):\n",
    "    return np.exp(-x**2/2) / np.sqrt(2*np.pi)\n",
    "\n",
    "# Perform the integration using the quad function\n",
    "result, _ = quad(integrand, Q(se[0][-1],se[1][-1]), np.inf)\n",
    "print(\"The result of the standard Gaussian integral is:\", result)    "
   ]
  },
  {
   "cell_type": "code",
   "execution_count": 276,
   "id": "73fb0014",
   "metadata": {},
   "outputs": [
    {
     "name": "stdout",
     "output_type": "stream",
     "text": [
      "The result of the standard Gaussian integral is: 1.000000000000001\n"
     ]
    }
   ],
   "source": [
    "import numpy as np\n",
    "from scipy.integrate import quad\n",
    "\n",
    "# Define the integrand (i.e., the standard Gaussian function)\n",
    "def integrand(x):\n",
    "    return x**2* np.exp(-x**2/2) / np.sqrt(2*np.pi)\n",
    "\n",
    "# Perform the integration using the quad function\n",
    "result, _ = quad(integrand, -np.inf, np.inf)\n",
    "\n",
    "print(\"The result of the standard Gaussian integral is:\", result)"
   ]
  },
  {
   "cell_type": "code",
   "execution_count": 272,
   "id": "1b96ec04",
   "metadata": {},
   "outputs": [],
   "source": [
    "def Q(k,sigma,sigma_0,sigma2):\n",
    "    return k*sigme_0/np.sqrt(sigma2*(k**2*sigma_0+sigma))"
   ]
  },
  {
   "cell_type": "code",
   "execution_count": 405,
   "id": "a9935c70",
   "metadata": {},
   "outputs": [],
   "source": [
    "#SE beta = 1\n",
    "import numpy as np\n",
    "from numpy import linalg as LA\n",
    "import matplotlib.pyplot as plt\n",
    "import random\n",
    "from scipy.integrate import quad\n",
    "import math\n",
    "\n",
    "def se2(alpha_l,alpha_u,sigma_0,sigma2):\n",
    "    sigma2_collect_se2 = []\n",
    "    k_collect_se2 = []\n",
    "    #chi_collect_se2 = []\n",
    "    chi = 1/(1 + (alpha_l+alpha_u)/sigma2)\n",
    "    k_t = 0.01\n",
    "    sigma_s2 = 1/sigma2\n",
    "    #sigma_0 = 1\n",
    "    #sigma_s2 = 1\n",
    "    sigma_t2 = 0\n",
    "    eps = 1e-8\n",
    "    parameter_old = np.array([k_t,sigma_t2])\n",
    "    parameter_new = np.array([1,1])\n",
    "    iter_se2 = 0\n",
    "    k_collect_se2.append(k_t)\n",
    "    sigma2_collect_se2.append(sigma_t2)\n",
    "\n",
    "    while LA.norm(parameter_new - parameter_old)>eps:\n",
    "        parameter_old = np.array([k_t,sigma_t2])\n",
    "        tanh_1 = 0\n",
    "        tanh_2 = 0\n",
    "        iter_se2 += 1\n",
    "        x = 0\n",
    "        def integrand(x):\n",
    "            return x* np.exp(-x**2/2) / np.sqrt(2*np.pi)\n",
    "        tanh_1 = integrand(math.tanh(k_t*sigma_s2+np.sqrt(k_t**2*sigma_s2+sigma_t2/sigma2)*x))\n",
    "        tanh_2 =  integrand(math.tanh(k_t*sigma_s2+np.sqrt(k_t**2*sigma_s2+sigma_t2/sigma2)*x)**2)\n",
    "        k_new = chi*(alpha_l/sigma2 + alpha_u*tanh_1/sigma2)\n",
    "        sigma_new = chi**2*(alpha_l/sigma2 + alpha_u*tanh_2/sigma2)\n",
    "        parameter_new = np.array([k_new,sigma_new])\n",
    "        \n",
    "        k_collect_se2.append(k_new)\n",
    "        sigma2_collect_se2.append(sigma_new)\n",
    "    \n",
    "        k_t = k_new\n",
    "        sigma_t2 = sigma_new\n",
    "    return k_collect_se2,sigma2_collect_se2,iter_se2"
   ]
  },
  {
   "cell_type": "code",
   "execution_count": 410,
   "id": "76ea0227",
   "metadata": {},
   "outputs": [],
   "source": [
    "se1 = se2(0,1,0.5,0.5)"
   ]
  },
  {
   "cell_type": "code",
   "execution_count": 411,
   "id": "9dbd3267",
   "metadata": {},
   "outputs": [
    {
     "name": "stdout",
     "output_type": "stream",
     "text": [
      "9.299762094662044e-09 1.0839359384305877e-16\n"
     ]
    }
   ],
   "source": [
    "print(se1[0][-1],se1[1][-1])"
   ]
  },
  {
   "cell_type": "code",
   "execution_count": null,
   "id": "231f1344",
   "metadata": {},
   "outputs": [],
   "source": []
  },
  {
   "cell_type": "code",
   "execution_count": 439,
   "id": "e5984c08",
   "metadata": {},
   "outputs": [],
   "source": [
    "#SE beta = 1\n",
    "import numpy as np\n",
    "from numpy import linalg as LA\n",
    "import matplotlib.pyplot as plt\n",
    "import random\n",
    "import math\n",
    "\n",
    "def se2(alpha_l,alpha_u,sigma_0,sigma2):\n",
    "    sigma2_collect_se2 = []\n",
    "    k_collect_se2 = []\n",
    "    #chi_collect_se2 = []\n",
    "    chi = 1/(1/sigma_0 + (alpha_l+alpha_u)/sigma2)\n",
    "    k_t = 0.01\n",
    "    sigma_s2 = 1/sigma2\n",
    "    #sigma_0 = 1\n",
    "    #sigma_s2 = 1\n",
    "    sigma_t2 = 0\n",
    "    eps = 1e-8\n",
    "    parameter_old = np.array([k_t,sigma_t2])\n",
    "    parameter_new = np.array([1,1])\n",
    "    iter_se2 = 0\n",
    "    k_collect_se2.append(k_t)\n",
    "    sigma2_collect_se2.append(sigma_t2)\n",
    "    \n",
    "    \n",
    "    while LA.norm(parameter_new - parameter_old)>eps:\n",
    "        parameter_old = np.array([k_t,sigma_t2])\n",
    "        sum_1 = 0\n",
    "        sum_2 = 0\n",
    "        iter_se2 += 1\n",
    "        for z in np.arange(-10,10,0.1):\n",
    "            sum_1 += np.exp(-1/2*z**2)*math.tanh(k_t*sigma_s2+np.sqrt(k_t**2*sigma_s2+sigma_t2/sigma2)*z)/np.sqrt(2*np.pi)/10\n",
    "            sum_2 += np.exp(-1/2*z**2)*(math.tanh(k_t*sigma_s2+np.sqrt(k_t**2*sigma_s2+sigma_t2/sigma2)*z))**2/np.sqrt(2*np.pi)/10\n",
    "            \n",
    "        k_new = chi*(alpha_l/sigma2 + alpha_u*sum_1/sigma2)\n",
    "        sigma_new = chi**2*(alpha_l/sigma2 + alpha_u*sum_2/sigma2)\n",
    "        parameter_new = np.array([k_new,sigma_new])\n",
    "        \n",
    "        k_collect_se2.append(k_new)\n",
    "        sigma2_collect_se2.append(sigma_new)\n",
    "    \n",
    "        k_t = k_new\n",
    "        sigma_t2 = sigma_new\n",
    "    return k_collect_se2,sigma2_collect_se2,iter_se2"
   ]
  },
  {
   "cell_type": "code",
   "execution_count": 440,
   "id": "9fc79bbc",
   "metadata": {},
   "outputs": [],
   "source": [
    "se = se2(1,1,1,1)"
   ]
  },
  {
   "cell_type": "code",
   "execution_count": 441,
   "id": "c6ab398d",
   "metadata": {},
   "outputs": [
    {
     "name": "stdout",
     "output_type": "stream",
     "text": [
      "0.4459196070775382 0.14380226771694835\n"
     ]
    }
   ],
   "source": [
    "print(se[0][-1],se[1][-1])"
   ]
  },
  {
   "cell_type": "code",
   "execution_count": 442,
   "id": "467cfeb5",
   "metadata": {},
   "outputs": [
    {
     "data": {
      "text/plain": [
       "12"
      ]
     },
     "execution_count": 442,
     "metadata": {},
     "output_type": "execute_result"
    }
   ],
   "source": [
    "len(se[0])"
   ]
  },
  {
   "cell_type": "code",
   "execution_count": 443,
   "id": "3566330a",
   "metadata": {},
   "outputs": [
    {
     "data": {
      "text/plain": [
       "12"
      ]
     },
     "execution_count": 443,
     "metadata": {},
     "output_type": "execute_result"
    }
   ],
   "source": [
    "len(se[1])"
   ]
  },
  {
   "cell_type": "code",
   "execution_count": 446,
   "id": "484cf46e",
   "metadata": {},
   "outputs": [],
   "source": [
    "#collcetion of AMP2\n",
    "p_collect_amp2 = []\n",
    "s_collect_amp2 = []\n",
    "k_collect_amp2 = []\n",
    "sigma2_collect_amp2 = []\n",
    "\n",
    "#sampling\n",
    "n = 300  # dimension\n",
    "m = 300  # unlabeled data\n",
    "\n",
    "alpha_u = m/n\n",
    "\n",
    "s_Ori = np.ones(n)\n",
    "mean1 = -1/np.sqrt(n)*np.ones(n) # s_0 = [1,...,1], sigma_s2 = s_0^2/n =1\n",
    "mean2 = 1/np.sqrt(n)*np.ones(n)\n",
    "cov = np.identity(n)\n",
    "x = np.zeros((m, n))\n",
    "for i in range(m):\n",
    "    if random.uniform(0, 1) > 0.5:\n",
    "        x[i] = np.random.multivariate_normal(mean2, cov)\n",
    "    else:\n",
    "        x[i] = np.random.multivariate_normal(mean1, cov)\n",
    "        \n",
    "m_la = 300 #labeled data\n",
    "alpha_l = m_la/n\n",
    "\n",
    "x_data = np.zeros((m_la, n))\n",
    "y_label = np.zeros(m_la)\n",
    "for i in range(m_la):\n",
    "    if random.uniform(0, 1) > 0.5:\n",
    "        y_label[i] = 1\n",
    "        x_data[i] = np.random.multivariate_normal(mean2, cov)\n",
    "    else:\n",
    "        y_label[i] = -1\n",
    "        x_data[i] = np.random.multivariate_normal(mean1, cov)\n",
    "        \n",
    "def update_p_1(s, p):\n",
    "    chi = 1/(1 + alpha_l+alpha_u)\n",
    "    p_d = np.zeros(m)\n",
    "    for u in range(m):\n",
    "        p_d[u] = (1/np.sqrt(n))*x[u]@s - chi*math.tanh(p[u])\n",
    "    return p_d\n",
    "\n",
    "def update_s_1(s, p):\n",
    "    chi = 1/(1 + alpha_l+alpha_u)\n",
    "    s_d = np.zeros(n)\n",
    "    for i in range(n):\n",
    "        sum_ = 0\n",
    "        sum_l = 0\n",
    "        for j in range(m):\n",
    "            sum_ += chi*((1/np.sqrt(n))*x[j][i]*math.tanh(p[j]) -(1/n)*s[i]*x[j][i]**2*(1-(math.tanh(p[j]))**2))\n",
    "        for k in range(m_la):    \n",
    "            sum_l += chi*x_data[k][i]*y_label[k]/np.sqrt(n)\n",
    "        s_d[i] = sum_l+ sum_\n",
    "    return s_d\n",
    "\n",
    "def amp2_1():\n",
    "    chi = 1/(1 + alpha_l+alpha_u)\n",
    "    s_0 = np.zeros(n)  \n",
    "    p_0 = np.zeros(m)\n",
    "    eps=1e-6\n",
    "    iter_amp2 = 0\n",
    "    p_new = np.zeros(m)\n",
    "    s_new = 0.01*np.ones(n)\n",
    "    def sigma2_update(s_new):\n",
    "        sigma2_up = 0\n",
    "        for i in range(n):\n",
    "            sigma2_up += LA.norm(s_new[i] - k_collect_amp2[iter_amp2])**2/n\n",
    "        return sigma2_up\n",
    "    while LA.norm(s_new[0] - s_0[0])>eps:\n",
    "        p_collect_amp2.append(p_new)\n",
    "        s_collect_amp2.append(s_new)\n",
    "        k_collect_amp2.append(s_new@s_Ori/n)\n",
    "        sigma2_collect_amp2.append(sigma2_update(s_new))\n",
    "        s_0 = s_new\n",
    "        p_0 = p_new\n",
    "        p_new = update_p_1(s_0,p_0)\n",
    "        s_new = update_s_1(s_0,p_new)\n",
    "        iter_amp2 +=1\n",
    "    return s_collect_amp2,p_collect_amp2,k_collect_amp2,sigma2_collect_amp2,iter_amp2"
   ]
  },
  {
   "cell_type": "code",
   "execution_count": 447,
   "id": "8c439d9a",
   "metadata": {},
   "outputs": [],
   "source": [
    "amp = amp2_1()"
   ]
  },
  {
   "cell_type": "code",
   "execution_count": 448,
   "id": "4308c362",
   "metadata": {},
   "outputs": [
    {
     "name": "stdout",
     "output_type": "stream",
     "text": [
      "0.46717165526492577 0.14798091096917132\n"
     ]
    }
   ],
   "source": [
    "print(amp[2][-1],amp[3][-1])"
   ]
  },
  {
   "cell_type": "code",
   "execution_count": 449,
   "id": "e99a1d6a",
   "metadata": {},
   "outputs": [
    {
     "data": {
      "text/plain": [
       "13"
      ]
     },
     "execution_count": 449,
     "metadata": {},
     "output_type": "execute_result"
    }
   ],
   "source": [
    "len(amp[2])"
   ]
  },
  {
   "cell_type": "code",
   "execution_count": 450,
   "id": "babd5b42",
   "metadata": {},
   "outputs": [
    {
     "data": {
      "text/plain": [
       "13"
      ]
     },
     "execution_count": 450,
     "metadata": {},
     "output_type": "execute_result"
    }
   ],
   "source": [
    "len(amp[3])"
   ]
  },
  {
   "cell_type": "code",
   "execution_count": 453,
   "id": "926a7387",
   "metadata": {},
   "outputs": [],
   "source": [
    "idx = []\n",
    "l =min(len(amp[2]),len(se[0]))\n",
    "for i in range(l):\n",
    "    idx.append(i)"
   ]
  },
  {
   "cell_type": "code",
   "execution_count": 456,
   "id": "cf9537d8",
   "metadata": {},
   "outputs": [
    {
     "data": {
      "image/png": "[encoded data removed]",
      "text/plain": [
       "<Figure size 432x288 with 1 Axes>"
      ]
     },
     "metadata": {
      "needs_background": "light"
     },
     "output_type": "display_data"
    }
   ],
   "source": [
    "#figure-1    \n",
    "plt.plot(idx,se[0][:l],c=\"r\",label=\"SE k_t\",marker=\"o\")\n",
    "plt.plot(idx,amp[2][:l],c=\"b\",label=\"AMP k_t\",marker=\"x\")\n",
    "plt.title(\"AMP, chi=0.001, alpha_u=3, alpha_l=1000: k_t comparison\")\n",
    "plt.ylabel(\"AMP k_t, SE k_t\")\n",
    "\n",
    "plt.xlabel(\"iterations\")\n",
    "plt.grid()\n",
    "plt.legend()\n",
    "plt.show()"
   ]
  },
  {
   "cell_type": "code",
   "execution_count": 469,
   "id": "b61f0176",
   "metadata": {},
   "outputs": [],
   "source": [
    "#beta = 1 and infinity comparison\n",
    "#SE beta = 1\n",
    "import numpy as np\n",
    "from numpy import linalg as LA\n",
    "import matplotlib.pyplot as plt\n",
    "import random\n",
    "import math\n",
    "\n",
    "def se2_1(alpha_l,alpha_u,sigma_0,sigma2):\n",
    "    sigma2_collect_se2 = []\n",
    "    k_collect_se2 = []\n",
    "    #chi_collect_se2 = []\n",
    "    chi = 1/(1/sigma_0 + (alpha_l+alpha_u)/sigma2)\n",
    "    print(chi)\n",
    "    k_t = 0.01\n",
    "    sigma_s2 = sigma_0/sigma2\n",
    "    #sigma_0 = 1\n",
    "    #sigma_s2 = 1\n",
    "    sigma_t2 = 0\n",
    "    eps = 1e-8\n",
    "    parameter_old = np.array([k_t,sigma_t2])\n",
    "    parameter_new = np.array([1,1])\n",
    "    iter_se2 = 0\n",
    "    k_collect_se2.append(k_t)\n",
    "    sigma2_collect_se2.append(sigma_t2)\n",
    "    \n",
    "    \n",
    "    while LA.norm(parameter_new - parameter_old)>eps:\n",
    "        parameter_old = np.array([k_t,sigma_t2])\n",
    "        sum_1 = 0\n",
    "        sum_2 = 0\n",
    "        iter_se2 += 1\n",
    "        for z in np.arange(-10,10,0.1):\n",
    "            sum_1 += np.exp(-1/2*z**2)*math.tanh(k_t*sigma_s2+np.sqrt(k_t**2*sigma_s2+sigma_t2/sigma2)*z)/np.sqrt(2*np.pi)/10\n",
    "            sum_2 += np.exp(-1/2*z**2)*(math.tanh(k_t*sigma_s2+np.sqrt(k_t**2*sigma_s2+sigma_t2/sigma2)*z))**2/np.sqrt(2*np.pi)/10\n",
    "            \n",
    "        k_new = chi*(alpha_l/sigma2 + alpha_u*sum_1/sigma2)\n",
    "        sigma_new = chi**2*(alpha_l/sigma2 + alpha_u*sum_2/sigma2)\n",
    "        parameter_new = np.array([k_new,sigma_new])\n",
    "        \n",
    "        k_collect_se2.append(k_new)\n",
    "        sigma2_collect_se2.append(sigma_new)\n",
    "    \n",
    "        k_t = k_new\n",
    "        sigma_t2 = sigma_new\n",
    "    return k_collect_se2,sigma2_collect_se2,iter_se2"
   ]
  },
  {
   "cell_type": "code",
   "execution_count": 523,
   "id": "ee3d248a",
   "metadata": {},
   "outputs": [
    {
     "name": "stdout",
     "output_type": "stream",
     "text": [
      "0.3333333333333333\n"
     ]
    }
   ],
   "source": [
    "se1 = se2_1(1,1,1,1)"
   ]
  },
  {
   "cell_type": "code",
   "execution_count": 524,
   "id": "81e54d8a",
   "metadata": {},
   "outputs": [
    {
     "name": "stdout",
     "output_type": "stream",
     "text": [
      "0.4459196070775382 0.14380226771694835\n"
     ]
    }
   ],
   "source": [
    "print(se1[0][-1],se1[1][-1])"
   ]
  },
  {
   "cell_type": "code",
   "execution_count": 505,
   "id": "a6961874",
   "metadata": {},
   "outputs": [],
   "source": [
    "def se2_infty(alpha_l,alpha_u,sigma_0,sigma2):\n",
    "    sigma2_collect_se2 = []\n",
    "    k_collect_se2 = []\n",
    "    chi_collect_se2 = []\n",
    "    chi_t = 0.1\n",
    "    k_t = 0.01\n",
    "    sigma_s2 = 1\n",
    "    sigma_t2 = 0\n",
    "    eps = 1e-8\n",
    "    parameter_old = np.array([chi_t,k_t,sigma_t2])\n",
    "    parameter_new = np.array([1,1,1])\n",
    "    iter_se2 = 0\n",
    "    chi_collect_se2.append(chi_t)\n",
    "    k_collect_se2.append(k_t)\n",
    "    sigma2_collect_se2.append(sigma_t2)\n",
    "    \n",
    "    def y_s(p,t):\n",
    "        eps = 1e-12 #epsilon\n",
    "        y_gst = 1 #initial y^*\n",
    "        y_pre = 0\n",
    "        while LA.norm(y_gst-y_pre)>eps:\n",
    "            y_pre = y_gst\n",
    "            y_st = np.tanh(p+np.sqrt(t)*y_pre)*np.sqrt(t)\n",
    "        return y_gst\n",
    "    def F(p,t): #F function\n",
    "        return y_s(p,t)/(np.sqrt(t))\n",
    "    \n",
    "    def T(p,t): #T function\n",
    "        return (1-F(p,t)**2)/(1-t*(1-F(p,t)**2))\n",
    "    \n",
    "    while LA.norm(parameter_new - parameter_old)>eps:\n",
    "        parameter_old = np.array([chi_t,k_t,sigma_t2])\n",
    "        sum_t_1 = 0\n",
    "        sum_f_1 = 0\n",
    "        sum_f2_1 = 0\n",
    "        iter_se2 += 1\n",
    "        for z in np.arange(-10,10,0.1):\n",
    "            sum_t_1 += np.exp(-1/2*z**2)*T(k_t*sigma_s2+np.sqrt(k_t**2*sigma_s2+sigma_t2)*z,chi_t)/np.sqrt(2*np.pi)/10\n",
    "            sum_f_1 += np.exp(-1/2*z**2)*F(k_t*sigma_s2+np.sqrt(k_t**2*sigma_s2+sigma_t2)*z,chi_t)/np.sqrt(2*np.pi)/10\n",
    "            sum_f2_1 += np.exp(-1/2*z**2)*F(k_t*sigma_s2+np.sqrt(k_t**2*sigma_s2+sigma_t2)*z,chi_t)**2/np.sqrt(2*np.pi)/10\n",
    "        chi_new = 1/(1 + alpha_l + alpha_u - alpha_u*sum_t_1)\n",
    "        k_new = chi_new*(alpha_l + alpha_u*sum_f_1)\n",
    "        sigma_new = chi_new**2*(alpha_l + alpha_u*sum_f2_1)\n",
    "        parameter_new = np.array([chi_new,k_new,sigma_new])\n",
    "        chi_collect_se2.append(chi_new)\n",
    "        k_collect_se2.append(k_new)\n",
    "        sigma2_collect_se2.append(sigma_new)\n",
    "        chi_t = chi_new\n",
    "        k_t = k_new\n",
    "        sigma_t2 = sigma_new\n",
    "    return chi_collect_se2,k_collect_se2,sigma2_collect_se2,iter_se2"
   ]
  },
  {
   "cell_type": "code",
   "execution_count": 520,
   "id": "efd724b8",
   "metadata": {},
   "outputs": [],
   "source": [
    "se2 = se2_infty(1,1,1,1)"
   ]
  },
  {
   "cell_type": "code",
   "execution_count": 521,
   "id": "497e30f2",
   "metadata": {},
   "outputs": [
    {
     "name": "stdout",
     "output_type": "stream",
     "text": [
      "0.6118764037163029 0.21717692163186736\n"
     ]
    }
   ],
   "source": [
    "print(se2[1][-1],se2[2][-1])"
   ]
  },
  {
   "cell_type": "code",
   "execution_count": 522,
   "id": "b84dd296",
   "metadata": {},
   "outputs": [
    {
     "name": "stdout",
     "output_type": "stream",
     "text": [
      "0.183503413257301\n"
     ]
    }
   ],
   "source": [
    "print(se2[0][-1])"
   ]
  },
  {
   "cell_type": "code",
   "execution_count": null,
   "id": "fbc7cd3f",
   "metadata": {},
   "outputs": [],
   "source": []
  }
 ],
 "metadata": {
  "kernelspec": {
   "display_name": "Python 3 (ipykernel)",
   "language": "python",
   "name": "python3"
  },
  "language_info": {
   "codemirror_mode": {
    "name": "ipython",
    "version": 3
   },
   "file_extension": ".py",
   "mimetype": "text/x-python",
   "name": "python",
   "nbconvert_exporter": "python",
   "pygments_lexer": "ipython3",
   "version": "3.9.12"
  }
 },
 "nbformat": 4,
 "nbformat_minor": 5
}
