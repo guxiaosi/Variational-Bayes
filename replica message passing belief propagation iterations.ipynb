{
 "cells": [
  {
   "cell_type": "code",
   "execution_count": 70,
   "id": "5e02049a",
   "metadata": {},
   "outputs": [
    {
     "name": "stderr",
     "output_type": "stream",
     "text": [
      "/var/folders/h_/mft4g8yj4p5b9mc1x71fgd680000gn/T/ipykernel_21181/3813019771.py:52: RuntimeWarning: invalid value encountered in sqrt\n",
      "  y_st = np.tanh(p+np.sqrt(t)*y_st)\n",
      "/var/folders/h_/mft4g8yj4p5b9mc1x71fgd680000gn/T/ipykernel_21181/3813019771.py:55: RuntimeWarning: invalid value encountered in sqrt\n",
      "  return y_s(p,t)/(np.sqrt(t)+0.00001)\n",
      "\n",
      "KeyboardInterrupt\n",
      "\n"
     ]
    }
   ],
   "source": [
    "import numpy as np\n",
    "import scipy.stats as stats\n",
    "import math\n",
    "from numpy import linalg as LA\n",
    "#import matplotlib.pyplot as plt\n",
    "\n",
    "S_0 = 20\n",
    "m = 10 #No. of samplers\n",
    "n = 100 #dimension of samplers\n",
    "mu = [-S_0/np.sqrt(n), S_0/np.sqrt(n)]\n",
    "sigma = [1, 1]\n",
    "p_i = [0.5, 0.5]\n",
    "\n",
    "y = np.zeros((m,n))\n",
    "#x is samplers\n",
    "x = np.zeros((m,n))\n",
    "for i in range(m):\n",
    "    z_i = np.argmax(np.random.multinomial(1, p_i))\n",
    "    y[i] = np.random.normal(mu[z_i], sigma[z_i],size=(1,n))\n",
    "    x[i] =y[i]+np.random.normal(0,1,size=(1,n))\n",
    "    \n",
    "#print(x)\n",
    "#print(np.mean(x),np.var(x))\n",
    "s = 20*np.ones((m,n))\n",
    "chi = 5*np.ones((m,n))\n",
    "p = np.zeros((m,n))\n",
    "W = np.zeros(m)\n",
    "\n",
    "def update_p_W(x,s,chi):\n",
    "    for u in range(m):\n",
    "        for i in range(n):\n",
    "            sum_j = i\n",
    "            for j in range(n):\n",
    "                if j ==0:\n",
    "                    pass\n",
    "                else:\n",
    "                    sum_j += x[u][j]*s[u][j]/np.sqrt(n)\n",
    "            p[u][i] = sum_j\n",
    "\n",
    "            sum_nu = 0    \n",
    "            for k in range(n):\n",
    "                sum_nu += x[u][k]**2*chi[u][k]/n\n",
    "            W[u] = sum_nu\n",
    "    return p,W\n",
    "\n",
    "#initial alpha, lambda\n",
    "alpha = m/n\n",
    "lamb = 10\n",
    "\n",
    "def y_s(p,t):\n",
    "    y_st = 1\n",
    "    y_st = np.tanh(p+np.sqrt(t)*y_st)\n",
    "    return y_st\n",
    "def F(p,t):\n",
    "    return y_s(p,t)/(np.sqrt(t)+0.00001)\n",
    "\n",
    "def T(p,t):\n",
    "    return (1-F(p,t)**2)/(1-t*(1-F(p,t)**2)+0.00001)\n",
    "\n",
    "def update_chi_s(x,p,W):\n",
    "    for i in range(n):\n",
    "        sum_c = 0\n",
    "        sum_s = 0\n",
    "        for j in range(m):\n",
    "            for k in range(m):\n",
    "                p_ = p[k][i]\n",
    "                t_ = W[k]\n",
    "                if k == j:\n",
    "                    pass\n",
    "                else:\n",
    "                    sum_c += (x[k][i]**2*T(p_,t_)/n)\n",
    "                    sum_s += x[k][i]*F(p_,t_)/np.sqrt(n)\n",
    "            chi[j][i] = 1/(alpha+lamb-sum_c)        \n",
    "            s[j][i] = chi[j][i]*sum_s\n",
    "    return chi,s\n",
    "\n",
    "#testing\n",
    "eps = 0.5\n",
    "iter_ = 0\n",
    "\n",
    "while iter_<100:\n",
    "    iter_+=1\n",
    "    d_p_W = update_p_W(x,s,chi)\n",
    "    d_chi_s = update_chi_s(x,d_p_W[0],d_p_W[1])\n",
    "    if  LA.norm(d_chi_s[0][0]-s[0])<eps:\n",
    "        print(d_chi_s[0][0],iter_)\n",
    "        break\n",
    "    #print(s[0])\n",
    "    #print(d_chi_s[0])\n",
    "    s = d_chi_s[0]\n",
    "    chi = d_chi_s[1]\n",
    "    #print(s)"
   ]
  },
  {
   "cell_type": "code",
   "execution_count": null,
   "id": "391fb5da",
   "metadata": {},
   "outputs": [],
   "source": [
    "a = np.ones((10,100))\n",
    "b = np.zeros((10,100))\n",
    "c = LA.norm(a-b)\n",
    "c"
   ]
  },
  {
   "cell_type": "code",
   "execution_count": 5,
   "id": "659b85ef",
   "metadata": {},
   "outputs": [
    {
     "name": "stdout",
     "output_type": "stream",
     "text": [
      "[[-1.15371739 -1.04032571 -4.91745353 ... -1.99346964 -2.10979974\n",
      "  -3.91542017]\n",
      " [-2.386657   -1.63460813 -2.32797382 ... -1.30533803 -4.37571498\n",
      "  -4.1289675 ]\n",
      " [ 4.12251497  1.4225211   4.77016616 ...  5.04470585  4.48412596\n",
      "   5.21335262]\n",
      " ...\n",
      " [-3.57477384 -5.80503121 -3.63088532 ... -2.9439566  -5.04909944\n",
      "  -4.68324104]\n",
      " [ 1.99459223  4.22420608  1.52488515 ...  2.67396538  2.81944731\n",
      "   2.60113829]\n",
      " [ 1.45935826  4.31835292  3.58877906 ...  4.30501286  2.22544569\n",
      "   4.5902681 ]]\n"
     ]
    }
   ],
   "source": [
    "import numpy as np\n",
    "import scipy.stats as stats\n",
    "import math\n",
    "from numpy import linalg as LA\n",
    "#import matplotlib.pyplot as plt\n",
    "\n",
    "S_0 = 100\n",
    "m = 100 #No. of samplers\n",
    "n = 1000 #dimension of samplers\n",
    "mu = [-S_0/np.sqrt(n), S_0/np.sqrt(n)]\n",
    "sigma = [1, 1]\n",
    "p_i = [0.5, 0.5]\n",
    "\n",
    "y = np.zeros((m,n))\n",
    "#x is samplers\n",
    "x = np.zeros((m,n))\n",
    "for i in range(m):\n",
    "    z_i = np.argmax(np.random.multinomial(1, p_i))\n",
    "    y[i] = np.random.normal(mu[z_i], sigma[z_i],size=(1,n))\n",
    "    x[i] =y[i]+np.random.normal(0,1,size=(1,n))\n",
    "print(x)"
   ]
  },
  {
   "cell_type": "code",
   "execution_count": 78,
   "id": "08f4c26a",
   "metadata": {},
   "outputs": [],
   "source": [
    "n = 100 #dimension\n",
    "m = 10 #data\n",
    "mean1 = 20*np.ones(n)/np.sqrt(n)#s_0 = 2\n",
    "mean2 = -20*np.ones(n)/np.sqrt(n)\n",
    "cov = np.identity(n)\n",
    "y = 1/2*np.random.multivariate_normal(mean1, cov, m) + 1/2*np.random.multivariate_normal(mean2, cov, m)\n",
    "x = y+np.random.multivariate_normal(np.zeros(n), cov, m)\n",
    "#print(y,y.shape)"
   ]
  },
  {
   "cell_type": "code",
   "execution_count": 133,
   "id": "4307c8ec",
   "metadata": {},
   "outputs": [
    {
     "name": "stdout",
     "output_type": "stream",
     "text": [
      "[0.08188871 0.1502706  0.25269464 0.02493078 0.2911867  0.27736926\n",
      " 0.2293119  0.12674961 0.20282258 0.26546267] 1\n"
     ]
    },
    {
     "name": "stderr",
     "output_type": "stream",
     "text": [
      "/var/folders/h_/mft4g8yj4p5b9mc1x71fgd680000gn/T/ipykernel_21181/3323717127.py:46: RuntimeWarning: invalid value encountered in sqrt\n",
      "  y_st = np.tanh(p+np.sqrt(t)*y_st)\n",
      "/var/folders/h_/mft4g8yj4p5b9mc1x71fgd680000gn/T/ipykernel_21181/3323717127.py:49: RuntimeWarning: invalid value encountered in sqrt\n",
      "  return y_s(p,t)/(np.sqrt(t)+0.00001)\n"
     ]
    },
    {
     "name": "stdout",
     "output_type": "stream",
     "text": [
      "[nan nan nan nan nan nan nan nan nan nan] 2\n",
      "[nan nan nan nan nan nan nan nan nan nan] 3\n",
      "[nan nan nan nan nan nan nan nan nan nan] 4\n"
     ]
    },
    {
     "ename": "KeyboardInterrupt",
     "evalue": "",
     "output_type": "error",
     "traceback": [
      "\u001b[0;31m---------------------------------------------------------------------------\u001b[0m",
      "\u001b[0;31mKeyboardInterrupt\u001b[0m                         Traceback (most recent call last)",
      "Input \u001b[0;32mIn [133]\u001b[0m, in \u001b[0;36m<cell line: 75>\u001b[0;34m()\u001b[0m\n\u001b[1;32m     76\u001b[0m iter_\u001b[38;5;241m+\u001b[39m\u001b[38;5;241m=\u001b[39m\u001b[38;5;241m1\u001b[39m\n\u001b[1;32m     77\u001b[0m d_p_W \u001b[38;5;241m=\u001b[39m update_p_W(x,s,chi)\n\u001b[0;32m---> 78\u001b[0m d_chi_s \u001b[38;5;241m=\u001b[39m \u001b[43mupdate_chi_s\u001b[49m\u001b[43m(\u001b[49m\u001b[43mx\u001b[49m\u001b[43m,\u001b[49m\u001b[43md_p_W\u001b[49m\u001b[43m[\u001b[49m\u001b[38;5;241;43m0\u001b[39;49m\u001b[43m]\u001b[49m\u001b[43m,\u001b[49m\u001b[43md_p_W\u001b[49m\u001b[43m[\u001b[49m\u001b[38;5;241;43m1\u001b[39;49m\u001b[43m]\u001b[49m\u001b[43m)\u001b[49m\n\u001b[1;32m     79\u001b[0m \u001b[38;5;28;01mif\u001b[39;00m  LA\u001b[38;5;241m.\u001b[39mnorm(d_chi_s[\u001b[38;5;241m0\u001b[39m]\u001b[38;5;241m-\u001b[39ms)\u001b[38;5;241m<\u001b[39meps:\n\u001b[1;32m     80\u001b[0m     \u001b[38;5;28mprint\u001b[39m(d_chi_s[\u001b[38;5;241m0\u001b[39m][\u001b[38;5;241m0\u001b[39m],iter_)\n",
      "Input \u001b[0;32mIn [133]\u001b[0m, in \u001b[0;36mupdate_chi_s\u001b[0;34m(x, p, W)\u001b[0m\n\u001b[1;32m     64\u001b[0m     \u001b[38;5;28;01melse\u001b[39;00m:\n\u001b[1;32m     65\u001b[0m         sum_c \u001b[38;5;241m+\u001b[39m\u001b[38;5;241m=\u001b[39m (x[k][i]\u001b[38;5;241m*\u001b[39m\u001b[38;5;241m*\u001b[39m\u001b[38;5;241m2\u001b[39m\u001b[38;5;241m*\u001b[39mT(p_,t_)\u001b[38;5;241m/\u001b[39mn)\n\u001b[0;32m---> 66\u001b[0m         sum_s \u001b[38;5;241m+\u001b[39m\u001b[38;5;241m=\u001b[39m x[k][i]\u001b[38;5;241m*\u001b[39m\u001b[43mF\u001b[49m\u001b[43m(\u001b[49m\u001b[43mp_\u001b[49m\u001b[43m,\u001b[49m\u001b[43mt_\u001b[49m\u001b[43m)\u001b[49m\u001b[38;5;241m/\u001b[39mnp\u001b[38;5;241m.\u001b[39msqrt(n)\n\u001b[1;32m     67\u001b[0m chi[j][i] \u001b[38;5;241m=\u001b[39m \u001b[38;5;241m1\u001b[39m\u001b[38;5;241m/\u001b[39m(alpha\u001b[38;5;241m+\u001b[39mlamb\u001b[38;5;241m-\u001b[39msum_c)        \n\u001b[1;32m     68\u001b[0m s[j][i] \u001b[38;5;241m=\u001b[39m chi[j][i]\u001b[38;5;241m*\u001b[39msum_s\n",
      "Input \u001b[0;32mIn [133]\u001b[0m, in \u001b[0;36mF\u001b[0;34m(p, t)\u001b[0m\n\u001b[1;32m     48\u001b[0m \u001b[38;5;28;01mdef\u001b[39;00m \u001b[38;5;21mF\u001b[39m(p,t):\n\u001b[0;32m---> 49\u001b[0m     \u001b[38;5;28;01mreturn\u001b[39;00m y_s(p,t)\u001b[38;5;241m/\u001b[39m(\u001b[43mnp\u001b[49m\u001b[38;5;241;43m.\u001b[39;49m\u001b[43msqrt\u001b[49m\u001b[43m(\u001b[49m\u001b[43mt\u001b[49m\u001b[43m)\u001b[49m\u001b[38;5;241m+\u001b[39m\u001b[38;5;241m0.00001\u001b[39m)\n",
      "\u001b[0;31mKeyboardInterrupt\u001b[0m: "
     ]
    }
   ],
   "source": [
    "import numpy as np\n",
    "import scipy.stats as stats\n",
    "import math\n",
    "from numpy import linalg as LA\n",
    "#import matplotlib.pyplot as plt\n",
    "\n",
    "n = 10 #dimension\n",
    "m = 100 #data\n",
    "mean1 = -20*np.ones(n)/np.sqrt(n)#s_0 = [20,...,20]\n",
    "mean2 = 20*np.ones(n)/np.sqrt(n)\n",
    "cov = np.identity(n)\n",
    "y = 0.5*np.random.multivariate_normal(mean1, cov, m) + 0.5*np.random.multivariate_normal(mean2, cov, m)\n",
    "x = y+np.random.multivariate_normal(np.zeros(n), cov, m)\n",
    "#print(y,y.shape)\n",
    "    \n",
    "#print(x)\n",
    "#print(np.mean(x),np.var(x))\n",
    "s = 20*np.ones((m,n))\n",
    "chi = 2*np.ones((m,n))\n",
    "p = np.zeros((m,n))\n",
    "W = np.zeros(m)\n",
    "\n",
    "def update_p_W(x,s,chi):\n",
    "    for u in range(m):\n",
    "        for i in range(n):\n",
    "            sum_j = 0\n",
    "            for j in range(n):\n",
    "                if j == i:\n",
    "                    pass\n",
    "                else:\n",
    "                    sum_j += x[u][j]*s[u][j]/np.sqrt(n)\n",
    "            p[u][i] = sum_j\n",
    "\n",
    "            sum_nu = 0    \n",
    "            for k in range(n):\n",
    "                sum_nu += x[u][k]**2*chi[u][k]/n\n",
    "            W[u] = sum_nu\n",
    "    return p,W\n",
    "\n",
    "#initial alpha, lambda\n",
    "alpha = m/n\n",
    "lamb = 10\n",
    "\n",
    "def y_s(p,t):\n",
    "    y_st = 1\n",
    "    y_st = np.tanh(p+np.sqrt(t)*y_st)\n",
    "    return y_st\n",
    "def F(p,t):\n",
    "    return y_s(p,t)/(np.sqrt(t)+0.00001)\n",
    "\n",
    "def T(p,t):\n",
    "    return (1-F(p,t)**2)/(1-t*(1-F(p,t)**2)+0.00001)\n",
    "\n",
    "def update_chi_s(x,p,W):\n",
    "    for i in range(n):\n",
    "        for j in range(m):\n",
    "            sum_c = 0\n",
    "            sum_s = 0\n",
    "            for k in range(m):\n",
    "                p_ = p[k][i]\n",
    "                t_ = W[k]\n",
    "                if k == j:\n",
    "                    pass\n",
    "                else:\n",
    "                    sum_c += (x[k][i]**2*T(p_,t_)/n)\n",
    "                    sum_s += x[k][i]*F(p_,t_)/np.sqrt(n)\n",
    "            chi[j][i] = 1/(alpha+lamb-sum_c)        \n",
    "            s[j][i] = chi[j][i]*sum_s\n",
    "    return chi,s\n",
    "\n",
    "#testing\n",
    "eps = 0.01\n",
    "iter_ = 0\n",
    "\n",
    "while iter_<100:\n",
    "    iter_+=1\n",
    "    d_p_W = update_p_W(x,s,chi)\n",
    "    d_chi_s = update_chi_s(x,d_p_W[0],d_p_W[1])\n",
    "    if  LA.norm(d_chi_s[0]-s)<eps:\n",
    "        print(d_chi_s[0][0],iter_)\n",
    "        break\n",
    "    print(s[0],iter_)\n",
    "    #print(d_chi_s[0])\n",
    "    s = d_chi_s[0]\n",
    "    chi = d_chi_s[1]\n",
    "    #print(s)"
   ]
  },
  {
   "cell_type": "code",
   "execution_count": 136,
   "id": "e0397475",
   "metadata": {},
   "outputs": [
    {
     "name": "stdout",
     "output_type": "stream",
     "text": [
      "testing -10.65957397091543 17.093472874179415\n",
      "(50, 100) (50, 100)\n",
      "-0.9999957011036674\n"
     ]
    }
   ],
   "source": [
    "import numpy as np\n",
    "import scipy.stats as stats\n",
    "import math\n",
    "from numpy import linalg as LA\n",
    "#import matplotlib.pyplot as plt\n",
    "\n",
    "n = 100 #dimension\n",
    "m = 50 #data\n",
    "mean1 = -20*np.ones(n)/np.sqrt(n)#s_0 = [20,...,20]\n",
    "mean2 = 20*np.ones(n)/np.sqrt(n)\n",
    "cov = np.identity(n)\n",
    "y = 0.5*np.random.multivariate_normal(mean1, cov, m) + 0.5*np.random.multivariate_normal(mean2, cov, m)\n",
    "x = y+np.random.multivariate_normal(np.zeros(n), cov, m)\n",
    "#print(y,y.shape)\n",
    "    \n",
    "#print(x)\n",
    "#print(np.mean(x),np.var(x))\n",
    "s = 20*np.ones((m,n))\n",
    "chi = 10*np.ones((m,n))\n",
    "p = np.zeros((m,n))\n",
    "W = np.zeros(m)\n",
    "\n",
    "def update_p_W(x,s,chi):\n",
    "    for u in range(m):\n",
    "        for i in range(n):        \n",
    "            sum_j = 0\n",
    "            for j in range(n):\n",
    "                if j == i:\n",
    "                    pass\n",
    "                else:\n",
    "                    sum_j += x[u][j]*s[u][j]/np.sqrt(n)\n",
    "            p[u][i] = sum_j\n",
    "\n",
    "            sum_nu = 0    \n",
    "            for k in range(n):\n",
    "                sum_nu += x[u][k]**2*chi[u][k]/n\n",
    "            W[u] = sum_nu\n",
    "    return p,W\n",
    "\n",
    "#initial alpha, lambda\n",
    "alpha = m/n\n",
    "lamb = 10\n",
    "\n",
    "def y_s(p,t):\n",
    "    y_st = 1\n",
    "    y_st = np.tanh(p+np.sqrt(t)*y_st)\n",
    "    return y_st\n",
    "def F(p,t):\n",
    "    return y_s(p,t)/(np.sqrt(t)+0.00001)\n",
    "\n",
    "def T(p,t):\n",
    "    return (1-F(p,t)**2)/(1-t*(1-F(p,t)**2)+0.00001)\n",
    "\n",
    "def update_chi_s(x,p,W):\n",
    "    for i in range(n):\n",
    "        for j in range(m):\n",
    "            sum_c = 0\n",
    "            sum_s = 0\n",
    "            for k in range(m):\n",
    "                p_ = p[k][i]\n",
    "                t_ = W[k]\n",
    "                if k == j:\n",
    "                    pass\n",
    "                else:\n",
    "                    sum_c += (x[k][i]**2*T(p_,t_)/n)\n",
    "                    sum_s += x[k][i]*F(p_,t_)/np.sqrt(n)\n",
    "            chi[j][i] = 1/(alpha+lamb-sum_c)        \n",
    "            s[j][i] = chi[j][i]*sum_s\n",
    "    return chi,s\n",
    "update_p_W(x,s,chi)\n",
    "d1 = update_p_W(x,s,chi)[0]\n",
    "d2 = update_p_W(x,s,chi)[1]\n",
    "update_chi_s(x,d1,d2)\n",
    "print(\"testing\",d1[0][0],d2[0])\n",
    "print(update_chi_s(x,d1,d2)[0].shape,update_chi_s(x,d1,d2)[1].shape)\n",
    "#print(update_p_W(x,s,chi)[0].shape,update_p_W(x,s,chi)[1].shape)\n",
    "print(y_s(d1[0][0],d2[0]))"
   ]
  },
  {
   "cell_type": "code",
   "execution_count": 137,
   "id": "b8680c8e",
   "metadata": {},
   "outputs": [
    {
     "name": "stdout",
     "output_type": "stream",
     "text": [
      "-1.0\n"
     ]
    }
   ],
   "source": [
    "print(y_s(-32.031172841859686,17.770674745181978))"
   ]
  },
  {
   "cell_type": "code",
   "execution_count": 141,
   "id": "f30febc9",
   "metadata": {},
   "outputs": [
    {
     "name": "stdout",
     "output_type": "stream",
     "text": [
      "-1.0\n"
     ]
    }
   ],
   "source": [
    "def y_Star(p,t):\n",
    "    a = 0\n",
    "    eps = 0.00001\n",
    "    y_st = 1\n",
    "    flag =True\n",
    "    while flag:\n",
    "        y_new = np.tanh(p+np.sqrt(t)*y_st)*np.sqrt(t)\n",
    "        if y_new - y_st < eps:\n",
    "            a = y_new\n",
    "            break\n",
    "        y_st =y_new\n",
    "print(y_s(-32.031172841859686,17.770674745181978))"
   ]
  },
  {
   "cell_type": "code",
   "execution_count": 113,
   "id": "d2c0b627",
   "metadata": {},
   "outputs": [
    {
     "data": {
      "text/plain": [
       "((50, 100), (50,))"
      ]
     },
     "execution_count": 113,
     "metadata": {},
     "output_type": "execute_result"
    }
   ],
   "source": [
    "p.shape, W.shape"
   ]
  },
  {
   "cell_type": "code",
   "execution_count": 114,
   "id": "fdee543f",
   "metadata": {},
   "outputs": [
    {
     "data": {
      "text/plain": [
       "((50, 100), (50, 100))"
      ]
     },
     "execution_count": 114,
     "metadata": {},
     "output_type": "execute_result"
    }
   ],
   "source": [
    "chi.shape, s.shape"
   ]
  },
  {
   "cell_type": "code",
   "execution_count": 159,
   "id": "a37fd35e",
   "metadata": {},
   "outputs": [
    {
     "name": "stdout",
     "output_type": "stream",
     "text": [
      "[2 1 1]\n",
      "testing: [0.44852725 0.01932364 0.0122347 ]\n",
      "testing: [5.21161513e-01 1.01052517e-03 3.46058588e-04]\n",
      "testing: [5.28775454e-01 6.20105314e-05 9.59847026e-06]\n",
      "testing: [ 5.29720791e-01 -7.73794375e-06  2.70024828e-07]\n",
      "testing: [ 5.29840522e-01 -8.19128838e-07  7.52071646e-09]\n",
      "testing: [5.29855724e-01 1.27139079e-07 2.29624583e-10]\n",
      "[5.29855724e-01 1.27139079e-07 2.29624583e-10]\n"
     ]
    }
   ],
   "source": [
    "import numpy as np\n",
    "from numpy import linalg as LA\n",
    "mu = 0\n",
    "sigma = 1\n",
    "z = np.random.normal(mu,sigma,1000)\n",
    "#initialize\n",
    "k_t = 1\n",
    "sigma_s2 = 1\n",
    "sigma_t2 = 1\n",
    "alpha = 0.1\n",
    "lamb = 2\n",
    "chi_t = 2\n",
    "eps = 0.0001\n",
    "parameter_old = np.array([chi_t,k_t,sigma_t2])\n",
    "parameter_new = np.array([0,0,0])\n",
    "print(parameter_old)\n",
    "def y_s(p,t):\n",
    "    y_st = 1\n",
    "    y_st = np.tanh(p+np.sqrt(t)*y_st)\n",
    "    return y_st\n",
    "\n",
    "def F(p,t):\n",
    "    return y_s(p,t)/(np.sqrt(t))\n",
    "\n",
    "def T(p,t):\n",
    "    return (1-F(p,t)**2)/(1-t*(1-F(p,t)**2))\n",
    "\n",
    "while LA.norm(parameter_new - parameter_old)>eps:\n",
    "    parameter_old = np.array([chi_t,k_t,sigma_t2])\n",
    "    z = np.random.normal(mu,sigma,1000)\n",
    "    sumz = 0\n",
    "    sumf = 0\n",
    "    for i in range(1000):\n",
    "        y = 0\n",
    "        y = np.tanh(k_t*sigma_s2+np.sqrt(k_t**2*sigma_s2+sigma_t2)*z[i]+np.sqrt(chi_t)*y)*np.sqrt(chi_t)\n",
    "        sumz += y/np.sqrt(chi_t)\n",
    "        sumf += (y/np.sqrt(chi_t))**2\n",
    "    f = sumz/1000\n",
    "    f2 = sumf/1000\n",
    "    t = (1-f**2)/(1-chi_t*(1-f**2))\n",
    "    chi_new = 1/(alpha + lamb -alpha*t)\n",
    "    k_new = alpha*chi_new*f\n",
    "    sigma_new = alpha*chi_new**2*f2\n",
    "    parameter_new = np.array([chi_new,k_new,sigma_new])\n",
    "    print(\"testing:\",parameter_new)\n",
    "    chi_t = chi_new\n",
    "    k_t = k_new\n",
    "    sigma_t2 = sigma_new\n",
    "print(parameter_new)        \n",
    "    "
   ]
  },
  {
   "cell_type": "code",
   "execution_count": null,
   "id": "0175b43f",
   "metadata": {},
   "outputs": [],
   "source": []
  }
 ],
 "metadata": {
  "kernelspec": {
   "display_name": "Python 3 (ipykernel)",
   "language": "python",
   "name": "python3"
  },
  "language_info": {
   "codemirror_mode": {
    "name": "ipython",
    "version": 3
   },
   "file_extension": ".py",
   "mimetype": "text/x-python",
   "name": "python",
   "nbconvert_exporter": "python",
   "pygments_lexer": "ipython3",
   "version": "3.9.12"
  }
 },
 "nbformat": 4,
 "nbformat_minor": 5
}
